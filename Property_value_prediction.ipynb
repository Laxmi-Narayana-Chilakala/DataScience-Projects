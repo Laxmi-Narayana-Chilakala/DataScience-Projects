{
 "cells": [
  {
   "cell_type": "code",
   "execution_count": 798,
   "metadata": {},
   "outputs": [],
   "source": [
    "import numpy as np\n",
    "import pandas as pd\n",
    "import matplotlib.pyplot as plt\n",
    "import seaborn as sns\n",
    "%matplotlib inline\n",
    "\n",
    "import datetime as dt\n",
    "from scipy import stats\n",
    "from sklearn import preprocessing\n",
    "from sklearn.impute import SimpleImputer\n",
    "from sklearn.linear_model import LinearRegression\n",
    "from sklearn.linear_model import Ridge, Lasso,ElasticNet\n",
    "from sklearn.tree import DecisionTreeRegressor\n",
    "from sklearn.model_selection import GridSearchCV\n",
    "from sklearn.neighbors import KNeighborsRegressor\n",
    "\n",
    "from sklearn.metrics import mean_squared_error, r2_score\n",
    "\n",
    "from sklearn.preprocessing import StandardScaler\n",
    "\n",
    "from sklearn.model_selection import train_test_split\n",
    "from sklearn.pipeline import Pipeline\n",
    "from sklearn.model_selection import GridSearchCV, cross_val_score, StratifiedKFold\n",
    "#from sklearn.compose import ColumnTransformer\n",
    "from sklearn.ensemble import RandomForestRegressor, AdaBoostRegressor, GradientBoostingRegressor\n",
    "import xgboost as xgb\n",
    "from sklearn.svm import SVC, SVR\n",
    "from mlxtend.plotting import plot_learning_curves\n",
    "from scipy.stats import kurtosis\n",
    "from scipy.stats import skew\n",
    "import re\n",
    "import warnings\n",
    "warnings.simplefilter('ignore')"
   ]
  },
  {
   "cell_type": "markdown",
   "metadata": {},
   "source": [
    "<h3> Reading Test and Train Data"
   ]
  },
  {
   "cell_type": "code",
   "execution_count": 1083,
   "metadata": {},
   "outputs": [],
   "source": [
    "df_train=pd.read_excel('Train.xlsx')"
   ]
  },
  {
   "cell_type": "code",
   "execution_count": 1084,
   "metadata": {},
   "outputs": [
    {
     "data": {
      "text/html": [
       "<div>\n",
       "<style scoped>\n",
       "    .dataframe tbody tr th:only-of-type {\n",
       "        vertical-align: middle;\n",
       "    }\n",
       "\n",
       "    .dataframe tbody tr th {\n",
       "        vertical-align: top;\n",
       "    }\n",
       "\n",
       "    .dataframe thead th {\n",
       "        text-align: right;\n",
       "    }\n",
       "</style>\n",
       "<table border=\"1\" class=\"dataframe\">\n",
       "  <thead>\n",
       "    <tr style=\"text-align: right;\">\n",
       "      <th></th>\n",
       "      <th>PropertyID</th>\n",
       "      <th>Borough</th>\n",
       "      <th>State</th>\n",
       "      <th>Surroundings</th>\n",
       "      <th>Address</th>\n",
       "      <th>ZipCode</th>\n",
       "      <th>Block</th>\n",
       "      <th>Lot</th>\n",
       "      <th>BldgClassCategory</th>\n",
       "      <th>NoOfResidentialUnits</th>\n",
       "      <th>NoOfCommercialUnits</th>\n",
       "      <th>TotalNoOfUnits</th>\n",
       "      <th>LandAreaInSqFt</th>\n",
       "      <th>GrossAreaInSqFt</th>\n",
       "      <th>YearOfConstruction</th>\n",
       "      <th>TaxClass_AtEvaluationTime</th>\n",
       "      <th>BldgClass_AtEvaluationTime</th>\n",
       "      <th>DateOfEvaluation</th>\n",
       "      <th>PropertyEvaluationvalue</th>\n",
       "    </tr>\n",
       "  </thead>\n",
       "  <tbody>\n",
       "    <tr>\n",
       "      <td>0</td>\n",
       "      <td>PR11101</td>\n",
       "      <td>1</td>\n",
       "      <td>NY</td>\n",
       "      <td>BATHGATE</td>\n",
       "      <td>1473 CROTONA PLACE</td>\n",
       "      <td>10456</td>\n",
       "      <td>2927</td>\n",
       "      <td>127</td>\n",
       "      <td>02 TWO FAMILY DWELLINGS</td>\n",
       "      <td>2</td>\n",
       "      <td>0</td>\n",
       "      <td>2</td>\n",
       "      <td>1900</td>\n",
       "      <td>2394</td>\n",
       "      <td>1990</td>\n",
       "      <td>1</td>\n",
       "      <td>B1</td>\n",
       "      <td>2014-05-30</td>\n",
       "      <td>540000</td>\n",
       "    </tr>\n",
       "    <tr>\n",
       "      <td>1</td>\n",
       "      <td>PR11102</td>\n",
       "      <td>1</td>\n",
       "      <td>NY</td>\n",
       "      <td>BATHGATE</td>\n",
       "      <td>453 EAST 181</td>\n",
       "      <td>10457</td>\n",
       "      <td>3037</td>\n",
       "      <td>110</td>\n",
       "      <td>03 THREE FAMILY DWELLINGS</td>\n",
       "      <td>3</td>\n",
       "      <td>0</td>\n",
       "      <td>3</td>\n",
       "      <td>1687</td>\n",
       "      <td>3037</td>\n",
       "      <td>2002</td>\n",
       "      <td>1</td>\n",
       "      <td>C0</td>\n",
       "      <td>2014-09-13</td>\n",
       "      <td>750000</td>\n",
       "    </tr>\n",
       "    <tr>\n",
       "      <td>2</td>\n",
       "      <td>PR11103</td>\n",
       "      <td>1</td>\n",
       "      <td>NY</td>\n",
       "      <td>BATHGATE</td>\n",
       "      <td>511 EAST 171 STREET</td>\n",
       "      <td>10457</td>\n",
       "      <td>2912</td>\n",
       "      <td>155</td>\n",
       "      <td>02 TWO FAMILY DWELLINGS</td>\n",
       "      <td>2</td>\n",
       "      <td>0</td>\n",
       "      <td>2</td>\n",
       "      <td>2000</td>\n",
       "      <td>2400</td>\n",
       "      <td>1989</td>\n",
       "      <td>1</td>\n",
       "      <td>B1</td>\n",
       "      <td>2014-09-28</td>\n",
       "      <td>470000</td>\n",
       "    </tr>\n",
       "    <tr>\n",
       "      <td>3</td>\n",
       "      <td>PR11104</td>\n",
       "      <td>1</td>\n",
       "      <td>NY</td>\n",
       "      <td>BATHGATE</td>\n",
       "      <td>547 CLAREMONT PARKWAY</td>\n",
       "      <td>10457</td>\n",
       "      <td>2929</td>\n",
       "      <td>134</td>\n",
       "      <td>02 TWO FAMILY DWELLINGS</td>\n",
       "      <td>2</td>\n",
       "      <td>0</td>\n",
       "      <td>2</td>\n",
       "      <td>2356</td>\n",
       "      <td>2394</td>\n",
       "      <td>1991</td>\n",
       "      <td>1</td>\n",
       "      <td>B1</td>\n",
       "      <td>2014-06-05</td>\n",
       "      <td>570000</td>\n",
       "    </tr>\n",
       "    <tr>\n",
       "      <td>4</td>\n",
       "      <td>PR11105</td>\n",
       "      <td>1</td>\n",
       "      <td>NY</td>\n",
       "      <td>BATHGATE</td>\n",
       "      <td>2063 WASHINGTON AVENUE</td>\n",
       "      <td>10457</td>\n",
       "      <td>3036</td>\n",
       "      <td>140</td>\n",
       "      <td>02 TWO FAMILY DWELLINGS</td>\n",
       "      <td>2</td>\n",
       "      <td>0</td>\n",
       "      <td>2</td>\n",
       "      <td>3346</td>\n",
       "      <td>2308</td>\n",
       "      <td>1993</td>\n",
       "      <td>1</td>\n",
       "      <td>B1</td>\n",
       "      <td>2015-02-07</td>\n",
       "      <td>640000</td>\n",
       "    </tr>\n",
       "  </tbody>\n",
       "</table>\n",
       "</div>"
      ],
      "text/plain": [
       "  PropertyID  Borough State Surroundings                 Address  ZipCode  \\\n",
       "0    PR11101        1    NY     BATHGATE      1473 CROTONA PLACE    10456   \n",
       "1    PR11102        1    NY     BATHGATE            453 EAST 181    10457   \n",
       "2    PR11103        1    NY     BATHGATE     511 EAST 171 STREET    10457   \n",
       "3    PR11104        1    NY     BATHGATE   547 CLAREMONT PARKWAY    10457   \n",
       "4    PR11105        1    NY     BATHGATE  2063 WASHINGTON AVENUE    10457   \n",
       "\n",
       "   Block  Lot          BldgClassCategory  NoOfResidentialUnits  \\\n",
       "0   2927  127    02 TWO FAMILY DWELLINGS                     2   \n",
       "1   3037  110  03 THREE FAMILY DWELLINGS                     3   \n",
       "2   2912  155    02 TWO FAMILY DWELLINGS                     2   \n",
       "3   2929  134    02 TWO FAMILY DWELLINGS                     2   \n",
       "4   3036  140    02 TWO FAMILY DWELLINGS                     2   \n",
       "\n",
       "   NoOfCommercialUnits  TotalNoOfUnits  LandAreaInSqFt  GrossAreaInSqFt  \\\n",
       "0                    0               2            1900             2394   \n",
       "1                    0               3            1687             3037   \n",
       "2                    0               2            2000             2400   \n",
       "3                    0               2            2356             2394   \n",
       "4                    0               2            3346             2308   \n",
       "\n",
       "   YearOfConstruction  TaxClass_AtEvaluationTime BldgClass_AtEvaluationTime  \\\n",
       "0                1990                          1                         B1   \n",
       "1                2002                          1                         C0   \n",
       "2                1989                          1                         B1   \n",
       "3                1991                          1                         B1   \n",
       "4                1993                          1                         B1   \n",
       "\n",
       "  DateOfEvaluation  PropertyEvaluationvalue  \n",
       "0       2014-05-30                   540000  \n",
       "1       2014-09-13                   750000  \n",
       "2       2014-09-28                   470000  \n",
       "3       2014-06-05                   570000  \n",
       "4       2015-02-07                   640000  "
      ]
     },
     "execution_count": 1084,
     "metadata": {},
     "output_type": "execute_result"
    }
   ],
   "source": [
    "df_train.head()"
   ]
  },
  {
   "cell_type": "code",
   "execution_count": 1085,
   "metadata": {},
   "outputs": [
    {
     "data": {
      "text/plain": [
       "(16810, 19)"
      ]
     },
     "execution_count": 1085,
     "metadata": {},
     "output_type": "execute_result"
    }
   ],
   "source": [
    "df_train.shape"
   ]
  },
  {
   "cell_type": "code",
   "execution_count": 1135,
   "metadata": {},
   "outputs": [],
   "source": [
    "df_test=pd.read_excel('Test.xlsx')"
   ]
  },
  {
   "cell_type": "code",
   "execution_count": 1087,
   "metadata": {},
   "outputs": [
    {
     "data": {
      "text/html": [
       "<div>\n",
       "<style scoped>\n",
       "    .dataframe tbody tr th:only-of-type {\n",
       "        vertical-align: middle;\n",
       "    }\n",
       "\n",
       "    .dataframe tbody tr th {\n",
       "        vertical-align: top;\n",
       "    }\n",
       "\n",
       "    .dataframe thead th {\n",
       "        text-align: right;\n",
       "    }\n",
       "</style>\n",
       "<table border=\"1\" class=\"dataframe\">\n",
       "  <thead>\n",
       "    <tr style=\"text-align: right;\">\n",
       "      <th></th>\n",
       "      <th>PropertyID</th>\n",
       "      <th>Borough</th>\n",
       "      <th>State</th>\n",
       "      <th>Surroundings</th>\n",
       "      <th>Address</th>\n",
       "      <th>ZipCode</th>\n",
       "      <th>Block</th>\n",
       "      <th>Lot</th>\n",
       "      <th>BldgClassCategory</th>\n",
       "      <th>NoOfResidentialUnits</th>\n",
       "      <th>NoOfCommercialUnits</th>\n",
       "      <th>TotalNoOfUnits</th>\n",
       "      <th>LandAreaInSqFt</th>\n",
       "      <th>GrossAreaInSqFt</th>\n",
       "      <th>YearOfConstruction</th>\n",
       "      <th>TaxClass_AtEvaluationTime</th>\n",
       "      <th>BldgClass_AtEvaluationTime</th>\n",
       "      <th>DateOfEvaluation</th>\n",
       "    </tr>\n",
       "  </thead>\n",
       "  <tbody>\n",
       "    <tr>\n",
       "      <td>0</td>\n",
       "      <td>PR51101</td>\n",
       "      <td>1</td>\n",
       "      <td>NY</td>\n",
       "      <td>BATHGATE</td>\n",
       "      <td>3860 3 AVENUE</td>\n",
       "      <td>10457</td>\n",
       "      <td>2929</td>\n",
       "      <td>117</td>\n",
       "      <td>02  TWO FAMILY HOMES</td>\n",
       "      <td>2</td>\n",
       "      <td>0</td>\n",
       "      <td>2</td>\n",
       "      <td>2498</td>\n",
       "      <td>2394</td>\n",
       "      <td>1995</td>\n",
       "      <td>1</td>\n",
       "      <td>B1</td>\n",
       "      <td>2013-06-24</td>\n",
       "    </tr>\n",
       "    <tr>\n",
       "      <td>1</td>\n",
       "      <td>PR51102</td>\n",
       "      <td>1</td>\n",
       "      <td>NY</td>\n",
       "      <td>BATHGATE</td>\n",
       "      <td>455 E. 179TH STREET</td>\n",
       "      <td>10457</td>\n",
       "      <td>3036</td>\n",
       "      <td>65</td>\n",
       "      <td>02 TWO FAMILY DWELLINGS</td>\n",
       "      <td>2</td>\n",
       "      <td>0</td>\n",
       "      <td>2</td>\n",
       "      <td>2033</td>\n",
       "      <td>2340</td>\n",
       "      <td>1994</td>\n",
       "      <td>1</td>\n",
       "      <td>B1</td>\n",
       "      <td>2014-08-28</td>\n",
       "    </tr>\n",
       "    <tr>\n",
       "      <td>2</td>\n",
       "      <td>PR51103</td>\n",
       "      <td>1</td>\n",
       "      <td>NY</td>\n",
       "      <td>BATHGATE</td>\n",
       "      <td>4415 3 AVENUE</td>\n",
       "      <td>10457</td>\n",
       "      <td>3048</td>\n",
       "      <td>51</td>\n",
       "      <td>14 RENTALS - 4-10 UNIT</td>\n",
       "      <td>4</td>\n",
       "      <td>1</td>\n",
       "      <td>5</td>\n",
       "      <td>2500</td>\n",
       "      <td>6000</td>\n",
       "      <td>1963</td>\n",
       "      <td>2</td>\n",
       "      <td>S4</td>\n",
       "      <td>2015-01-31</td>\n",
       "    </tr>\n",
       "    <tr>\n",
       "      <td>3</td>\n",
       "      <td>PR51104</td>\n",
       "      <td>1</td>\n",
       "      <td>NY</td>\n",
       "      <td>BATHGATE</td>\n",
       "      <td>407 EAST 174 STREET</td>\n",
       "      <td>10457</td>\n",
       "      <td>2899</td>\n",
       "      <td>34</td>\n",
       "      <td>30 WAREHOUSES</td>\n",
       "      <td>0</td>\n",
       "      <td>1</td>\n",
       "      <td>1</td>\n",
       "      <td>3439</td>\n",
       "      <td>3320</td>\n",
       "      <td>1951</td>\n",
       "      <td>4</td>\n",
       "      <td>E1</td>\n",
       "      <td>2015-03-12</td>\n",
       "    </tr>\n",
       "    <tr>\n",
       "      <td>4</td>\n",
       "      <td>PR51105</td>\n",
       "      <td>1</td>\n",
       "      <td>NY</td>\n",
       "      <td>EAST TREMONT</td>\n",
       "      <td>2175 CROTONA AVENUE</td>\n",
       "      <td>10457</td>\n",
       "      <td>3083</td>\n",
       "      <td>40</td>\n",
       "      <td>03 THREE FAMILY DWELLINGS</td>\n",
       "      <td>3</td>\n",
       "      <td>0</td>\n",
       "      <td>3</td>\n",
       "      <td>1348</td>\n",
       "      <td>2931</td>\n",
       "      <td>1997</td>\n",
       "      <td>1</td>\n",
       "      <td>C0</td>\n",
       "      <td>2014-06-07</td>\n",
       "    </tr>\n",
       "  </tbody>\n",
       "</table>\n",
       "</div>"
      ],
      "text/plain": [
       "  PropertyID  Borough State  Surroundings              Address  ZipCode  \\\n",
       "0    PR51101        1    NY      BATHGATE        3860 3 AVENUE    10457   \n",
       "1    PR51102        1    NY      BATHGATE  455 E. 179TH STREET    10457   \n",
       "2    PR51103        1    NY      BATHGATE        4415 3 AVENUE    10457   \n",
       "3    PR51104        1    NY      BATHGATE  407 EAST 174 STREET    10457   \n",
       "4    PR51105        1    NY  EAST TREMONT  2175 CROTONA AVENUE    10457   \n",
       "\n",
       "   Block  Lot          BldgClassCategory  NoOfResidentialUnits  \\\n",
       "0   2929  117       02  TWO FAMILY HOMES                     2   \n",
       "1   3036   65    02 TWO FAMILY DWELLINGS                     2   \n",
       "2   3048   51     14 RENTALS - 4-10 UNIT                     4   \n",
       "3   2899   34              30 WAREHOUSES                     0   \n",
       "4   3083   40  03 THREE FAMILY DWELLINGS                     3   \n",
       "\n",
       "   NoOfCommercialUnits  TotalNoOfUnits  LandAreaInSqFt  GrossAreaInSqFt  \\\n",
       "0                    0               2            2498             2394   \n",
       "1                    0               2            2033             2340   \n",
       "2                    1               5            2500             6000   \n",
       "3                    1               1            3439             3320   \n",
       "4                    0               3            1348             2931   \n",
       "\n",
       "   YearOfConstruction  TaxClass_AtEvaluationTime BldgClass_AtEvaluationTime  \\\n",
       "0                1995                          1                         B1   \n",
       "1                1994                          1                         B1   \n",
       "2                1963                          2                         S4   \n",
       "3                1951                          4                         E1   \n",
       "4                1997                          1                         C0   \n",
       "\n",
       "  DateOfEvaluation  \n",
       "0       2013-06-24  \n",
       "1       2014-08-28  \n",
       "2       2015-01-31  \n",
       "3       2015-03-12  \n",
       "4       2014-06-07  "
      ]
     },
     "execution_count": 1087,
     "metadata": {},
     "output_type": "execute_result"
    }
   ],
   "source": [
    "df_test.head()"
   ]
  },
  {
   "cell_type": "code",
   "execution_count": 827,
   "metadata": {},
   "outputs": [
    {
     "data": {
      "text/plain": [
       "(2936, 18)"
      ]
     },
     "execution_count": 827,
     "metadata": {},
     "output_type": "execute_result"
    }
   ],
   "source": [
    "df_test.shape"
   ]
  },
  {
   "cell_type": "markdown",
   "metadata": {},
   "source": [
    "<h3> Checking Data "
   ]
  },
  {
   "cell_type": "code",
   "execution_count": 828,
   "metadata": {},
   "outputs": [
    {
     "data": {
      "text/html": [
       "<div>\n",
       "<style scoped>\n",
       "    .dataframe tbody tr th:only-of-type {\n",
       "        vertical-align: middle;\n",
       "    }\n",
       "\n",
       "    .dataframe tbody tr th {\n",
       "        vertical-align: top;\n",
       "    }\n",
       "\n",
       "    .dataframe thead th {\n",
       "        text-align: right;\n",
       "    }\n",
       "</style>\n",
       "<table border=\"1\" class=\"dataframe\">\n",
       "  <thead>\n",
       "    <tr style=\"text-align: right;\">\n",
       "      <th></th>\n",
       "      <th>count</th>\n",
       "      <th>mean</th>\n",
       "      <th>std</th>\n",
       "      <th>min</th>\n",
       "      <th>25%</th>\n",
       "      <th>50%</th>\n",
       "      <th>75%</th>\n",
       "      <th>max</th>\n",
       "    </tr>\n",
       "  </thead>\n",
       "  <tbody>\n",
       "    <tr>\n",
       "      <td>Borough</td>\n",
       "      <td>16810.0</td>\n",
       "      <td>3.439143</td>\n",
       "      <td>1.398950</td>\n",
       "      <td>1.0</td>\n",
       "      <td>2.00</td>\n",
       "      <td>3.0</td>\n",
       "      <td>5.00</td>\n",
       "      <td>5.0</td>\n",
       "    </tr>\n",
       "    <tr>\n",
       "      <td>ZipCode</td>\n",
       "      <td>16810.0</td>\n",
       "      <td>10871.027543</td>\n",
       "      <td>522.996869</td>\n",
       "      <td>10001.0</td>\n",
       "      <td>10312.00</td>\n",
       "      <td>11207.0</td>\n",
       "      <td>11364.00</td>\n",
       "      <td>11694.0</td>\n",
       "    </tr>\n",
       "    <tr>\n",
       "      <td>Block</td>\n",
       "      <td>16810.0</td>\n",
       "      <td>5428.122308</td>\n",
       "      <td>3710.031921</td>\n",
       "      <td>6.0</td>\n",
       "      <td>2401.25</td>\n",
       "      <td>5050.0</td>\n",
       "      <td>7376.75</td>\n",
       "      <td>16314.0</td>\n",
       "    </tr>\n",
       "    <tr>\n",
       "      <td>Lot</td>\n",
       "      <td>16810.0</td>\n",
       "      <td>266.327722</td>\n",
       "      <td>542.420132</td>\n",
       "      <td>1.0</td>\n",
       "      <td>25.00</td>\n",
       "      <td>52.0</td>\n",
       "      <td>138.00</td>\n",
       "      <td>5323.0</td>\n",
       "    </tr>\n",
       "    <tr>\n",
       "      <td>NoOfResidentialUnits</td>\n",
       "      <td>16810.0</td>\n",
       "      <td>1.862225</td>\n",
       "      <td>8.027805</td>\n",
       "      <td>0.0</td>\n",
       "      <td>1.00</td>\n",
       "      <td>1.0</td>\n",
       "      <td>2.00</td>\n",
       "      <td>437.0</td>\n",
       "    </tr>\n",
       "    <tr>\n",
       "      <td>NoOfCommercialUnits</td>\n",
       "      <td>16810.0</td>\n",
       "      <td>0.137775</td>\n",
       "      <td>2.185857</td>\n",
       "      <td>0.0</td>\n",
       "      <td>0.00</td>\n",
       "      <td>0.0</td>\n",
       "      <td>0.00</td>\n",
       "      <td>252.0</td>\n",
       "    </tr>\n",
       "    <tr>\n",
       "      <td>TotalNoOfUnits</td>\n",
       "      <td>16810.0</td>\n",
       "      <td>2.000000</td>\n",
       "      <td>8.472771</td>\n",
       "      <td>1.0</td>\n",
       "      <td>1.00</td>\n",
       "      <td>1.0</td>\n",
       "      <td>2.00</td>\n",
       "      <td>437.0</td>\n",
       "    </tr>\n",
       "    <tr>\n",
       "      <td>LandAreaInSqFt</td>\n",
       "      <td>16810.0</td>\n",
       "      <td>10924.918441</td>\n",
       "      <td>58376.198100</td>\n",
       "      <td>1.0</td>\n",
       "      <td>2100.00</td>\n",
       "      <td>3200.0</td>\n",
       "      <td>5000.00</td>\n",
       "      <td>5612000.0</td>\n",
       "    </tr>\n",
       "    <tr>\n",
       "      <td>GrossAreaInSqFt</td>\n",
       "      <td>16810.0</td>\n",
       "      <td>3612.156871</td>\n",
       "      <td>16273.783452</td>\n",
       "      <td>1.0</td>\n",
       "      <td>1224.00</td>\n",
       "      <td>1750.0</td>\n",
       "      <td>2449.75</td>\n",
       "      <td>1172005.0</td>\n",
       "    </tr>\n",
       "    <tr>\n",
       "      <td>YearOfConstruction</td>\n",
       "      <td>16810.0</td>\n",
       "      <td>1973.982867</td>\n",
       "      <td>23.632595</td>\n",
       "      <td>1941.0</td>\n",
       "      <td>1951.00</td>\n",
       "      <td>1968.0</td>\n",
       "      <td>1998.00</td>\n",
       "      <td>2012.0</td>\n",
       "    </tr>\n",
       "    <tr>\n",
       "      <td>TaxClass_AtEvaluationTime</td>\n",
       "      <td>16810.0</td>\n",
       "      <td>1.289530</td>\n",
       "      <td>0.713779</td>\n",
       "      <td>1.0</td>\n",
       "      <td>1.00</td>\n",
       "      <td>1.0</td>\n",
       "      <td>1.00</td>\n",
       "      <td>4.0</td>\n",
       "    </tr>\n",
       "    <tr>\n",
       "      <td>PropertyEvaluationvalue</td>\n",
       "      <td>16810.0</td>\n",
       "      <td>808410.132540</td>\n",
       "      <td>897831.699618</td>\n",
       "      <td>100044.0</td>\n",
       "      <td>425000.00</td>\n",
       "      <td>590000.0</td>\n",
       "      <td>845000.00</td>\n",
       "      <td>9935000.0</td>\n",
       "    </tr>\n",
       "  </tbody>\n",
       "</table>\n",
       "</div>"
      ],
      "text/plain": [
       "                             count           mean            std       min  \\\n",
       "Borough                    16810.0       3.439143       1.398950       1.0   \n",
       "ZipCode                    16810.0   10871.027543     522.996869   10001.0   \n",
       "Block                      16810.0    5428.122308    3710.031921       6.0   \n",
       "Lot                        16810.0     266.327722     542.420132       1.0   \n",
       "NoOfResidentialUnits       16810.0       1.862225       8.027805       0.0   \n",
       "NoOfCommercialUnits        16810.0       0.137775       2.185857       0.0   \n",
       "TotalNoOfUnits             16810.0       2.000000       8.472771       1.0   \n",
       "LandAreaInSqFt             16810.0   10924.918441   58376.198100       1.0   \n",
       "GrossAreaInSqFt            16810.0    3612.156871   16273.783452       1.0   \n",
       "YearOfConstruction         16810.0    1973.982867      23.632595    1941.0   \n",
       "TaxClass_AtEvaluationTime  16810.0       1.289530       0.713779       1.0   \n",
       "PropertyEvaluationvalue    16810.0  808410.132540  897831.699618  100044.0   \n",
       "\n",
       "                                 25%       50%        75%        max  \n",
       "Borough                         2.00       3.0       5.00        5.0  \n",
       "ZipCode                     10312.00   11207.0   11364.00    11694.0  \n",
       "Block                        2401.25    5050.0    7376.75    16314.0  \n",
       "Lot                            25.00      52.0     138.00     5323.0  \n",
       "NoOfResidentialUnits            1.00       1.0       2.00      437.0  \n",
       "NoOfCommercialUnits             0.00       0.0       0.00      252.0  \n",
       "TotalNoOfUnits                  1.00       1.0       2.00      437.0  \n",
       "LandAreaInSqFt               2100.00    3200.0    5000.00  5612000.0  \n",
       "GrossAreaInSqFt              1224.00    1750.0    2449.75  1172005.0  \n",
       "YearOfConstruction           1951.00    1968.0    1998.00     2012.0  \n",
       "TaxClass_AtEvaluationTime       1.00       1.0       1.00        4.0  \n",
       "PropertyEvaluationvalue    425000.00  590000.0  845000.00  9935000.0  "
      ]
     },
     "execution_count": 828,
     "metadata": {},
     "output_type": "execute_result"
    }
   ],
   "source": [
    "df_train.describe().T"
   ]
  },
  {
   "cell_type": "code",
   "execution_count": null,
   "metadata": {},
   "outputs": [],
   "source": []
  },
  {
   "cell_type": "code",
   "execution_count": 833,
   "metadata": {},
   "outputs": [
    {
     "data": {
      "text/html": [
       "<div>\n",
       "<style scoped>\n",
       "    .dataframe tbody tr th:only-of-type {\n",
       "        vertical-align: middle;\n",
       "    }\n",
       "\n",
       "    .dataframe tbody tr th {\n",
       "        vertical-align: top;\n",
       "    }\n",
       "\n",
       "    .dataframe thead th {\n",
       "        text-align: right;\n",
       "    }\n",
       "</style>\n",
       "<table border=\"1\" class=\"dataframe\">\n",
       "  <thead>\n",
       "    <tr style=\"text-align: right;\">\n",
       "      <th></th>\n",
       "      <th>count</th>\n",
       "      <th>mean</th>\n",
       "      <th>std</th>\n",
       "      <th>min</th>\n",
       "      <th>25%</th>\n",
       "      <th>50%</th>\n",
       "      <th>75%</th>\n",
       "      <th>max</th>\n",
       "    </tr>\n",
       "  </thead>\n",
       "  <tbody>\n",
       "    <tr>\n",
       "      <td>Borough</td>\n",
       "      <td>2936.0</td>\n",
       "      <td>3.385559</td>\n",
       "      <td>1.364623</td>\n",
       "      <td>1.0</td>\n",
       "      <td>2.0</td>\n",
       "      <td>3.0</td>\n",
       "      <td>5.00</td>\n",
       "      <td>5.0</td>\n",
       "    </tr>\n",
       "    <tr>\n",
       "      <td>ZipCode</td>\n",
       "      <td>2936.0</td>\n",
       "      <td>10837.683924</td>\n",
       "      <td>526.594771</td>\n",
       "      <td>10001.0</td>\n",
       "      <td>10310.0</td>\n",
       "      <td>11105.0</td>\n",
       "      <td>11361.25</td>\n",
       "      <td>11694.0</td>\n",
       "    </tr>\n",
       "    <tr>\n",
       "      <td>Block</td>\n",
       "      <td>2936.0</td>\n",
       "      <td>5170.971730</td>\n",
       "      <td>3581.310989</td>\n",
       "      <td>31.0</td>\n",
       "      <td>2373.0</td>\n",
       "      <td>4772.5</td>\n",
       "      <td>7106.00</td>\n",
       "      <td>16262.0</td>\n",
       "    </tr>\n",
       "    <tr>\n",
       "      <td>Lot</td>\n",
       "      <td>2936.0</td>\n",
       "      <td>279.483651</td>\n",
       "      <td>562.104975</td>\n",
       "      <td>1.0</td>\n",
       "      <td>25.0</td>\n",
       "      <td>54.0</td>\n",
       "      <td>146.00</td>\n",
       "      <td>5026.0</td>\n",
       "    </tr>\n",
       "    <tr>\n",
       "      <td>NoOfResidentialUnits</td>\n",
       "      <td>2936.0</td>\n",
       "      <td>1.656335</td>\n",
       "      <td>4.456347</td>\n",
       "      <td>0.0</td>\n",
       "      <td>1.0</td>\n",
       "      <td>1.0</td>\n",
       "      <td>2.00</td>\n",
       "      <td>128.0</td>\n",
       "    </tr>\n",
       "    <tr>\n",
       "      <td>NoOfCommercialUnits</td>\n",
       "      <td>2936.0</td>\n",
       "      <td>0.136921</td>\n",
       "      <td>1.211945</td>\n",
       "      <td>0.0</td>\n",
       "      <td>0.0</td>\n",
       "      <td>0.0</td>\n",
       "      <td>0.00</td>\n",
       "      <td>50.0</td>\n",
       "    </tr>\n",
       "    <tr>\n",
       "      <td>TotalNoOfUnits</td>\n",
       "      <td>2936.0</td>\n",
       "      <td>1.793256</td>\n",
       "      <td>4.733782</td>\n",
       "      <td>1.0</td>\n",
       "      <td>1.0</td>\n",
       "      <td>1.0</td>\n",
       "      <td>2.00</td>\n",
       "      <td>130.0</td>\n",
       "    </tr>\n",
       "    <tr>\n",
       "      <td>LandAreaInSqFt</td>\n",
       "      <td>2936.0</td>\n",
       "      <td>11015.183924</td>\n",
       "      <td>37702.788446</td>\n",
       "      <td>1.0</td>\n",
       "      <td>2100.0</td>\n",
       "      <td>3126.5</td>\n",
       "      <td>5000.00</td>\n",
       "      <td>484555.0</td>\n",
       "    </tr>\n",
       "    <tr>\n",
       "      <td>GrossAreaInSqFt</td>\n",
       "      <td>2936.0</td>\n",
       "      <td>4060.355586</td>\n",
       "      <td>14807.827309</td>\n",
       "      <td>80.0</td>\n",
       "      <td>1222.0</td>\n",
       "      <td>1720.0</td>\n",
       "      <td>2440.25</td>\n",
       "      <td>231891.0</td>\n",
       "    </tr>\n",
       "    <tr>\n",
       "      <td>YearOfConstruction</td>\n",
       "      <td>2936.0</td>\n",
       "      <td>1975.443460</td>\n",
       "      <td>23.707392</td>\n",
       "      <td>1941.0</td>\n",
       "      <td>1955.0</td>\n",
       "      <td>1971.0</td>\n",
       "      <td>2000.00</td>\n",
       "      <td>2012.0</td>\n",
       "    </tr>\n",
       "    <tr>\n",
       "      <td>TaxClass_AtEvaluationTime</td>\n",
       "      <td>2936.0</td>\n",
       "      <td>1.309605</td>\n",
       "      <td>0.739623</td>\n",
       "      <td>1.0</td>\n",
       "      <td>1.0</td>\n",
       "      <td>1.0</td>\n",
       "      <td>1.00</td>\n",
       "      <td>4.0</td>\n",
       "    </tr>\n",
       "  </tbody>\n",
       "</table>\n",
       "</div>"
      ],
      "text/plain": [
       "                            count          mean           std      min  \\\n",
       "Borough                    2936.0      3.385559      1.364623      1.0   \n",
       "ZipCode                    2936.0  10837.683924    526.594771  10001.0   \n",
       "Block                      2936.0   5170.971730   3581.310989     31.0   \n",
       "Lot                        2936.0    279.483651    562.104975      1.0   \n",
       "NoOfResidentialUnits       2936.0      1.656335      4.456347      0.0   \n",
       "NoOfCommercialUnits        2936.0      0.136921      1.211945      0.0   \n",
       "TotalNoOfUnits             2936.0      1.793256      4.733782      1.0   \n",
       "LandAreaInSqFt             2936.0  11015.183924  37702.788446      1.0   \n",
       "GrossAreaInSqFt            2936.0   4060.355586  14807.827309     80.0   \n",
       "YearOfConstruction         2936.0   1975.443460     23.707392   1941.0   \n",
       "TaxClass_AtEvaluationTime  2936.0      1.309605      0.739623      1.0   \n",
       "\n",
       "                               25%      50%       75%       max  \n",
       "Borough                        2.0      3.0      5.00       5.0  \n",
       "ZipCode                    10310.0  11105.0  11361.25   11694.0  \n",
       "Block                       2373.0   4772.5   7106.00   16262.0  \n",
       "Lot                           25.0     54.0    146.00    5026.0  \n",
       "NoOfResidentialUnits           1.0      1.0      2.00     128.0  \n",
       "NoOfCommercialUnits            0.0      0.0      0.00      50.0  \n",
       "TotalNoOfUnits                 1.0      1.0      2.00     130.0  \n",
       "LandAreaInSqFt              2100.0   3126.5   5000.00  484555.0  \n",
       "GrossAreaInSqFt             1222.0   1720.0   2440.25  231891.0  \n",
       "YearOfConstruction          1955.0   1971.0   2000.00    2012.0  \n",
       "TaxClass_AtEvaluationTime      1.0      1.0      1.00       4.0  "
      ]
     },
     "execution_count": 833,
     "metadata": {},
     "output_type": "execute_result"
    }
   ],
   "source": [
    "df_test.describe().T"
   ]
  },
  {
   "cell_type": "code",
   "execution_count": 834,
   "metadata": {},
   "outputs": [],
   "source": [
    "def inspect_data(data):\n",
    "    return pd.DataFrame({\"Data Type\":data.dtypes,\"No of Levels\":data.apply(lambda x: x.nunique(),axis=0), \"Levels\":data.apply(lambda x: str(x.unique()),axis=0)})\n"
   ]
  },
  {
   "cell_type": "code",
   "execution_count": 835,
   "metadata": {},
   "outputs": [
    {
     "data": {
      "text/html": [
       "<div>\n",
       "<style scoped>\n",
       "    .dataframe tbody tr th:only-of-type {\n",
       "        vertical-align: middle;\n",
       "    }\n",
       "\n",
       "    .dataframe tbody tr th {\n",
       "        vertical-align: top;\n",
       "    }\n",
       "\n",
       "    .dataframe thead th {\n",
       "        text-align: right;\n",
       "    }\n",
       "</style>\n",
       "<table border=\"1\" class=\"dataframe\">\n",
       "  <thead>\n",
       "    <tr style=\"text-align: right;\">\n",
       "      <th></th>\n",
       "      <th>Data Type</th>\n",
       "      <th>No of Levels</th>\n",
       "      <th>Levels</th>\n",
       "    </tr>\n",
       "  </thead>\n",
       "  <tbody>\n",
       "    <tr>\n",
       "      <td>PropertyID</td>\n",
       "      <td>object</td>\n",
       "      <td>16810</td>\n",
       "      <td>['PR11101' 'PR11102' 'PR11103' ... 'PR27908' '...</td>\n",
       "    </tr>\n",
       "    <tr>\n",
       "      <td>Borough</td>\n",
       "      <td>int64</td>\n",
       "      <td>5</td>\n",
       "      <td>[1 3 2 5 4]</td>\n",
       "    </tr>\n",
       "    <tr>\n",
       "      <td>State</td>\n",
       "      <td>object</td>\n",
       "      <td>1</td>\n",
       "      <td>['NY']</td>\n",
       "    </tr>\n",
       "    <tr>\n",
       "      <td>Surroundings</td>\n",
       "      <td>object</td>\n",
       "      <td>243</td>\n",
       "      <td>['BATHGATE' 'EAST TREMONT' 'FORDHAM' 'MOUNT HO...</td>\n",
       "    </tr>\n",
       "    <tr>\n",
       "      <td>Address</td>\n",
       "      <td>object</td>\n",
       "      <td>15219</td>\n",
       "      <td>['1473 CROTONA PLACE' '453 EAST 181' '511 EAST...</td>\n",
       "    </tr>\n",
       "    <tr>\n",
       "      <td>ZipCode</td>\n",
       "      <td>int64</td>\n",
       "      <td>174</td>\n",
       "      <td>[10456 10457 10458 10460 10453 10452 10306 103...</td>\n",
       "    </tr>\n",
       "    <tr>\n",
       "      <td>Block</td>\n",
       "      <td>int64</td>\n",
       "      <td>6405</td>\n",
       "      <td>[2927 3037 2912 ... 1496 1576 2065]</td>\n",
       "    </tr>\n",
       "    <tr>\n",
       "      <td>Lot</td>\n",
       "      <td>int64</td>\n",
       "      <td>1299</td>\n",
       "      <td>[127 110 155 ... 1171 1528 2249]</td>\n",
       "    </tr>\n",
       "    <tr>\n",
       "      <td>BldgClassCategory</td>\n",
       "      <td>object</td>\n",
       "      <td>52</td>\n",
       "      <td>['02 TWO FAMILY DWELLINGS' '03 THREE FAMILY DW...</td>\n",
       "    </tr>\n",
       "    <tr>\n",
       "      <td>NoOfResidentialUnits</td>\n",
       "      <td>int64</td>\n",
       "      <td>70</td>\n",
       "      <td>[2 3 4 1 0 70 38 74 16 8 18 20 6 14 5 7 71 37 ...</td>\n",
       "    </tr>\n",
       "    <tr>\n",
       "      <td>NoOfCommercialUnits</td>\n",
       "      <td>int64</td>\n",
       "      <td>18</td>\n",
       "      <td>[0 1 4 8 7 3 6 2 5 11 10 252 29 26 12 15 14 47]</td>\n",
       "    </tr>\n",
       "    <tr>\n",
       "      <td>TotalNoOfUnits</td>\n",
       "      <td>int64</td>\n",
       "      <td>75</td>\n",
       "      <td>[2 3 5 1 4 78 38 74 7 6 16 8 18 20 14 71 37 11...</td>\n",
       "    </tr>\n",
       "    <tr>\n",
       "      <td>LandAreaInSqFt</td>\n",
       "      <td>int64</td>\n",
       "      <td>3898</td>\n",
       "      <td>[1900 1687 2000 ... 15071 4804 12771]</td>\n",
       "    </tr>\n",
       "    <tr>\n",
       "      <td>GrossAreaInSqFt</td>\n",
       "      <td>int64</td>\n",
       "      <td>3350</td>\n",
       "      <td>[2394 3037 2400 ... 17750 2803 29529]</td>\n",
       "    </tr>\n",
       "    <tr>\n",
       "      <td>YearOfConstruction</td>\n",
       "      <td>int64</td>\n",
       "      <td>72</td>\n",
       "      <td>[1990 2002 1989 1991 1993 2007 2005 2006 1995 ...</td>\n",
       "    </tr>\n",
       "    <tr>\n",
       "      <td>TaxClass_AtEvaluationTime</td>\n",
       "      <td>int64</td>\n",
       "      <td>3</td>\n",
       "      <td>[1 2 4]</td>\n",
       "    </tr>\n",
       "    <tr>\n",
       "      <td>BldgClass_AtEvaluationTime</td>\n",
       "      <td>object</td>\n",
       "      <td>101</td>\n",
       "      <td>['B1' 'C0' 'S4' 'A5' 'C3' 'G4' 'B2' 'K1' 'D7' ...</td>\n",
       "    </tr>\n",
       "    <tr>\n",
       "      <td>DateOfEvaluation</td>\n",
       "      <td>datetime64[ns]</td>\n",
       "      <td>572</td>\n",
       "      <td>[Timestamp('2014-05-30 00:00:00') Timestamp('2...</td>\n",
       "    </tr>\n",
       "    <tr>\n",
       "      <td>PropertyEvaluationvalue</td>\n",
       "      <td>int64</td>\n",
       "      <td>3694</td>\n",
       "      <td>[540000 750000 470000 ... 7600000 8075000 8454...</td>\n",
       "    </tr>\n",
       "  </tbody>\n",
       "</table>\n",
       "</div>"
      ],
      "text/plain": [
       "                                 Data Type  No of Levels  \\\n",
       "PropertyID                          object         16810   \n",
       "Borough                              int64             5   \n",
       "State                               object             1   \n",
       "Surroundings                        object           243   \n",
       "Address                             object         15219   \n",
       "ZipCode                              int64           174   \n",
       "Block                                int64          6405   \n",
       "Lot                                  int64          1299   \n",
       "BldgClassCategory                   object            52   \n",
       "NoOfResidentialUnits                 int64            70   \n",
       "NoOfCommercialUnits                  int64            18   \n",
       "TotalNoOfUnits                       int64            75   \n",
       "LandAreaInSqFt                       int64          3898   \n",
       "GrossAreaInSqFt                      int64          3350   \n",
       "YearOfConstruction                   int64            72   \n",
       "TaxClass_AtEvaluationTime            int64             3   \n",
       "BldgClass_AtEvaluationTime          object           101   \n",
       "DateOfEvaluation            datetime64[ns]           572   \n",
       "PropertyEvaluationvalue              int64          3694   \n",
       "\n",
       "                                                                       Levels  \n",
       "PropertyID                  ['PR11101' 'PR11102' 'PR11103' ... 'PR27908' '...  \n",
       "Borough                                                           [1 3 2 5 4]  \n",
       "State                                                                  ['NY']  \n",
       "Surroundings                ['BATHGATE' 'EAST TREMONT' 'FORDHAM' 'MOUNT HO...  \n",
       "Address                     ['1473 CROTONA PLACE' '453 EAST 181' '511 EAST...  \n",
       "ZipCode                     [10456 10457 10458 10460 10453 10452 10306 103...  \n",
       "Block                                     [2927 3037 2912 ... 1496 1576 2065]  \n",
       "Lot                                          [127 110 155 ... 1171 1528 2249]  \n",
       "BldgClassCategory           ['02 TWO FAMILY DWELLINGS' '03 THREE FAMILY DW...  \n",
       "NoOfResidentialUnits        [2 3 4 1 0 70 38 74 16 8 18 20 6 14 5 7 71 37 ...  \n",
       "NoOfCommercialUnits           [0 1 4 8 7 3 6 2 5 11 10 252 29 26 12 15 14 47]  \n",
       "TotalNoOfUnits              [2 3 5 1 4 78 38 74 7 6 16 8 18 20 14 71 37 11...  \n",
       "LandAreaInSqFt                          [1900 1687 2000 ... 15071 4804 12771]  \n",
       "GrossAreaInSqFt                         [2394 3037 2400 ... 17750 2803 29529]  \n",
       "YearOfConstruction          [1990 2002 1989 1991 1993 2007 2005 2006 1995 ...  \n",
       "TaxClass_AtEvaluationTime                                             [1 2 4]  \n",
       "BldgClass_AtEvaluationTime  ['B1' 'C0' 'S4' 'A5' 'C3' 'G4' 'B2' 'K1' 'D7' ...  \n",
       "DateOfEvaluation            [Timestamp('2014-05-30 00:00:00') Timestamp('2...  \n",
       "PropertyEvaluationvalue     [540000 750000 470000 ... 7600000 8075000 8454...  "
      ]
     },
     "execution_count": 835,
     "metadata": {},
     "output_type": "execute_result"
    }
   ],
   "source": [
    "inspect_data(df_train)"
   ]
  },
  {
   "cell_type": "code",
   "execution_count": 832,
   "metadata": {},
   "outputs": [
    {
     "data": {
      "text/html": [
       "<div>\n",
       "<style scoped>\n",
       "    .dataframe tbody tr th:only-of-type {\n",
       "        vertical-align: middle;\n",
       "    }\n",
       "\n",
       "    .dataframe tbody tr th {\n",
       "        vertical-align: top;\n",
       "    }\n",
       "\n",
       "    .dataframe thead th {\n",
       "        text-align: right;\n",
       "    }\n",
       "</style>\n",
       "<table border=\"1\" class=\"dataframe\">\n",
       "  <thead>\n",
       "    <tr style=\"text-align: right;\">\n",
       "      <th></th>\n",
       "      <th>Data Type</th>\n",
       "      <th>No of Levels</th>\n",
       "      <th>Levels</th>\n",
       "    </tr>\n",
       "  </thead>\n",
       "  <tbody>\n",
       "    <tr>\n",
       "      <td>PropertyID</td>\n",
       "      <td>object</td>\n",
       "      <td>2936</td>\n",
       "      <td>['PR51101' 'PR51102' 'PR51103' ... 'PR54034' '...</td>\n",
       "    </tr>\n",
       "    <tr>\n",
       "      <td>Borough</td>\n",
       "      <td>int64</td>\n",
       "      <td>5</td>\n",
       "      <td>[1 3 2 5 4]</td>\n",
       "    </tr>\n",
       "    <tr>\n",
       "      <td>State</td>\n",
       "      <td>object</td>\n",
       "      <td>1</td>\n",
       "      <td>['NY']</td>\n",
       "    </tr>\n",
       "    <tr>\n",
       "      <td>Surroundings</td>\n",
       "      <td>object</td>\n",
       "      <td>223</td>\n",
       "      <td>['BATHGATE' 'EAST TREMONT' 'FORDHAM' 'NEW DORP...</td>\n",
       "    </tr>\n",
       "    <tr>\n",
       "      <td>Address</td>\n",
       "      <td>object</td>\n",
       "      <td>2766</td>\n",
       "      <td>['3860 3 AVENUE' '455 E. 179TH STREET' '4415 3...</td>\n",
       "    </tr>\n",
       "    <tr>\n",
       "      <td>ZipCode</td>\n",
       "      <td>int64</td>\n",
       "      <td>164</td>\n",
       "      <td>[10457 10460 10306 10304 10305 10308 10312 112...</td>\n",
       "    </tr>\n",
       "    <tr>\n",
       "      <td>Block</td>\n",
       "      <td>int64</td>\n",
       "      <td>2131</td>\n",
       "      <td>[2929 3036 3048 ... 123 149 2095]</td>\n",
       "    </tr>\n",
       "    <tr>\n",
       "      <td>Lot</td>\n",
       "      <td>int64</td>\n",
       "      <td>583</td>\n",
       "      <td>[117 65 51 34 40 142 14 140 139 133 5 116 80 4...</td>\n",
       "    </tr>\n",
       "    <tr>\n",
       "      <td>BldgClassCategory</td>\n",
       "      <td>object</td>\n",
       "      <td>37</td>\n",
       "      <td>['02  TWO FAMILY HOMES' '02 TWO FAMILY DWELLIN...</td>\n",
       "    </tr>\n",
       "    <tr>\n",
       "      <td>NoOfResidentialUnits</td>\n",
       "      <td>int64</td>\n",
       "      <td>24</td>\n",
       "      <td>[2 4 0 3 1 6 8 109 7 11 15 80 90 9 13 46 55 71...</td>\n",
       "    </tr>\n",
       "    <tr>\n",
       "      <td>NoOfCommercialUnits</td>\n",
       "      <td>int64</td>\n",
       "      <td>12</td>\n",
       "      <td>[0 1 3 4 2 50 11 6 5 29 12 7]</td>\n",
       "    </tr>\n",
       "    <tr>\n",
       "      <td>TotalNoOfUnits</td>\n",
       "      <td>int64</td>\n",
       "      <td>24</td>\n",
       "      <td>[2 5 1 3 6 4 8 109 50 11 7 15 80 90 9 13 46 84...</td>\n",
       "    </tr>\n",
       "    <tr>\n",
       "      <td>LandAreaInSqFt</td>\n",
       "      <td>int64</td>\n",
       "      <td>1259</td>\n",
       "      <td>[2498 2033 2500 ... 29715 11670 9992]</td>\n",
       "    </tr>\n",
       "    <tr>\n",
       "      <td>GrossAreaInSqFt</td>\n",
       "      <td>int64</td>\n",
       "      <td>1394</td>\n",
       "      <td>[2394 2340 6000 ... 1538 1497 10411]</td>\n",
       "    </tr>\n",
       "    <tr>\n",
       "      <td>YearOfConstruction</td>\n",
       "      <td>int64</td>\n",
       "      <td>72</td>\n",
       "      <td>[1995 1994 1963 1951 1997 2006 1988 2010 2003 ...</td>\n",
       "    </tr>\n",
       "    <tr>\n",
       "      <td>TaxClass_AtEvaluationTime</td>\n",
       "      <td>int64</td>\n",
       "      <td>3</td>\n",
       "      <td>[1 2 4]</td>\n",
       "    </tr>\n",
       "    <tr>\n",
       "      <td>BldgClass_AtEvaluationTime</td>\n",
       "      <td>object</td>\n",
       "      <td>65</td>\n",
       "      <td>['B1' 'S4' 'E1' 'C0' 'B2' 'A5' 'B9' 'A2' 'A9' ...</td>\n",
       "    </tr>\n",
       "    <tr>\n",
       "      <td>DateOfEvaluation</td>\n",
       "      <td>datetime64[ns]</td>\n",
       "      <td>508</td>\n",
       "      <td>[Timestamp('2013-06-24 00:00:00') Timestamp('2...</td>\n",
       "    </tr>\n",
       "  </tbody>\n",
       "</table>\n",
       "</div>"
      ],
      "text/plain": [
       "                                 Data Type  No of Levels  \\\n",
       "PropertyID                          object          2936   \n",
       "Borough                              int64             5   \n",
       "State                               object             1   \n",
       "Surroundings                        object           223   \n",
       "Address                             object          2766   \n",
       "ZipCode                              int64           164   \n",
       "Block                                int64          2131   \n",
       "Lot                                  int64           583   \n",
       "BldgClassCategory                   object            37   \n",
       "NoOfResidentialUnits                 int64            24   \n",
       "NoOfCommercialUnits                  int64            12   \n",
       "TotalNoOfUnits                       int64            24   \n",
       "LandAreaInSqFt                       int64          1259   \n",
       "GrossAreaInSqFt                      int64          1394   \n",
       "YearOfConstruction                   int64            72   \n",
       "TaxClass_AtEvaluationTime            int64             3   \n",
       "BldgClass_AtEvaluationTime          object            65   \n",
       "DateOfEvaluation            datetime64[ns]           508   \n",
       "\n",
       "                                                                       Levels  \n",
       "PropertyID                  ['PR51101' 'PR51102' 'PR51103' ... 'PR54034' '...  \n",
       "Borough                                                           [1 3 2 5 4]  \n",
       "State                                                                  ['NY']  \n",
       "Surroundings                ['BATHGATE' 'EAST TREMONT' 'FORDHAM' 'NEW DORP...  \n",
       "Address                     ['3860 3 AVENUE' '455 E. 179TH STREET' '4415 3...  \n",
       "ZipCode                     [10457 10460 10306 10304 10305 10308 10312 112...  \n",
       "Block                                       [2929 3036 3048 ... 123 149 2095]  \n",
       "Lot                         [117 65 51 34 40 142 14 140 139 133 5 116 80 4...  \n",
       "BldgClassCategory           ['02  TWO FAMILY HOMES' '02 TWO FAMILY DWELLIN...  \n",
       "NoOfResidentialUnits        [2 4 0 3 1 6 8 109 7 11 15 80 90 9 13 46 55 71...  \n",
       "NoOfCommercialUnits                             [0 1 3 4 2 50 11 6 5 29 12 7]  \n",
       "TotalNoOfUnits              [2 5 1 3 6 4 8 109 50 11 7 15 80 90 9 13 46 84...  \n",
       "LandAreaInSqFt                          [2498 2033 2500 ... 29715 11670 9992]  \n",
       "GrossAreaInSqFt                          [2394 2340 6000 ... 1538 1497 10411]  \n",
       "YearOfConstruction          [1995 1994 1963 1951 1997 2006 1988 2010 2003 ...  \n",
       "TaxClass_AtEvaluationTime                                             [1 2 4]  \n",
       "BldgClass_AtEvaluationTime  ['B1' 'S4' 'E1' 'C0' 'B2' 'A5' 'B9' 'A2' 'A9' ...  \n",
       "DateOfEvaluation            [Timestamp('2013-06-24 00:00:00') Timestamp('2...  "
      ]
     },
     "execution_count": 832,
     "metadata": {},
     "output_type": "execute_result"
    }
   ],
   "source": [
    "inspect_data(df_test)"
   ]
  },
  {
   "cell_type": "markdown",
   "metadata": {},
   "source": [
    "<h4> Checking for Null Values"
   ]
  },
  {
   "cell_type": "code",
   "execution_count": 836,
   "metadata": {},
   "outputs": [
    {
     "data": {
      "text/plain": [
       "0"
      ]
     },
     "execution_count": 836,
     "metadata": {},
     "output_type": "execute_result"
    }
   ],
   "source": [
    "df_train.isnull().sum().sum()"
   ]
  },
  {
   "cell_type": "code",
   "execution_count": 837,
   "metadata": {},
   "outputs": [
    {
     "data": {
      "text/plain": [
       "0"
      ]
     },
     "execution_count": 837,
     "metadata": {},
     "output_type": "execute_result"
    }
   ],
   "source": [
    "df_test.isnull().sum().sum()"
   ]
  },
  {
   "cell_type": "code",
   "execution_count": 1136,
   "metadata": {},
   "outputs": [],
   "source": [
    "#converting to lower case\n",
    "df_train.columns = [x.lower() for x in df_train.columns]\n",
    "\n",
    "df_test.columns = [x.lower() for x in df_test.columns]"
   ]
  },
  {
   "cell_type": "markdown",
   "metadata": {},
   "source": [
    "<h4> Checking for Unique columns and dropping"
   ]
  },
  {
   "cell_type": "code",
   "execution_count": 1089,
   "metadata": {},
   "outputs": [],
   "source": [
    "def unique(df):\n",
    "    del_cols=[]\n",
    "    for i in df.columns:\n",
    "        if df[i].nunique()<2:\n",
    "            del_cols.append(i)\n",
    "            df.drop(del_cols,axis=1,inplace=True)\n",
    "    return del_cols"
   ]
  },
  {
   "cell_type": "code",
   "execution_count": 1090,
   "metadata": {},
   "outputs": [
    {
     "data": {
      "text/plain": [
       "['state']"
      ]
     },
     "execution_count": 1090,
     "metadata": {},
     "output_type": "execute_result"
    }
   ],
   "source": [
    "unique(df_train)"
   ]
  },
  {
   "cell_type": "code",
   "execution_count": 1137,
   "metadata": {},
   "outputs": [
    {
     "data": {
      "text/plain": [
       "['state']"
      ]
     },
     "execution_count": 1137,
     "metadata": {},
     "output_type": "execute_result"
    }
   ],
   "source": [
    "unique(df_test)"
   ]
  },
  {
   "cell_type": "code",
   "execution_count": 1138,
   "metadata": {},
   "outputs": [],
   "source": [
    "# Saving Propertyid of Test data\n",
    "df_train.drop('propertyid',axis=1,inplace=True)\n",
    "df_id=df_test['propertyid']\n",
    "df_test.drop('propertyid',axis=1,inplace=True)"
   ]
  },
  {
   "cell_type": "code",
   "execution_count": 1139,
   "metadata": {},
   "outputs": [
    {
     "name": "stdout",
     "output_type": "stream",
     "text": [
      "Train Data Shape: (16810, 17)\n",
      "Test Data Shape: (2936, 16)\n"
     ]
    }
   ],
   "source": [
    "print('Train Data Shape:',df_train.shape)\n",
    "print('Test Data Shape:',df_test.shape)"
   ]
  },
  {
   "cell_type": "code",
   "execution_count": 844,
   "metadata": {},
   "outputs": [],
   "source": [
    "num_cols=df_train.select_dtypes(include=['int64','float64']).columns"
   ]
  },
  {
   "cell_type": "code",
   "execution_count": 845,
   "metadata": {},
   "outputs": [],
   "source": [
    "cat_cols = df_train.columns.difference(num_cols).tolist()\n"
   ]
  },
  {
   "cell_type": "code",
   "execution_count": 846,
   "metadata": {},
   "outputs": [
    {
     "data": {
      "text/plain": [
       "Index(['borough', 'zipcode', 'block', 'lot', 'noofresidentialunits',\n",
       "       'noofcommercialunits', 'totalnoofunits', 'landareainsqft',\n",
       "       'grossareainsqft', 'yearofconstruction', 'taxclass_atevaluationtime',\n",
       "       'propertyevaluationvalue'],\n",
       "      dtype='object')"
      ]
     },
     "execution_count": 846,
     "metadata": {},
     "output_type": "execute_result"
    }
   ],
   "source": [
    "num_cols"
   ]
  },
  {
   "cell_type": "code",
   "execution_count": 847,
   "metadata": {},
   "outputs": [
    {
     "data": {
      "text/plain": [
       "['address',\n",
       " 'bldgclass_atevaluationtime',\n",
       " 'bldgclasscategory',\n",
       " 'dateofevaluation',\n",
       " 'surroundings']"
      ]
     },
     "execution_count": 847,
     "metadata": {},
     "output_type": "execute_result"
    }
   ],
   "source": [
    "cat_cols"
   ]
  },
  {
   "cell_type": "markdown",
   "metadata": {},
   "source": [
    "<h3> Comparing Data w.r.t Train and Test"
   ]
  },
  {
   "cell_type": "code",
   "execution_count": 848,
   "metadata": {},
   "outputs": [],
   "source": [
    "def compare_train_test(train_data, test_data):\n",
    "    train_levels = train_data.apply(lambda x: set(x.unique()),axis=0)\n",
    "    test_levels = test_data.apply(lambda x: set(x.unique()),axis=0)\n",
    "    extra = []\n",
    "    missing = []\n",
    "    for x1,x2 in zip(train_levels, test_levels):\n",
    "        missing.append(x1-x2)\n",
    "        extra.append(x2-x1)\n",
    "    return pd.DataFrame({\"Train Data Type\":train_data.dtypes, \"Test Data Type\":test_data.dtypes,\n",
    "                         \"Train #Levels\":train_data.apply(lambda x: x.unique().shape[0],axis=0), \"Test #Levels\":test_data.apply(lambda x: x.unique().shape[0],axis=0),\n",
    "                         \"Test Missing\":missing, \"Test Extra\":extra})"
   ]
  },
  {
   "cell_type": "markdown",
   "metadata": {},
   "source": [
    "<h4> Seperating Target and predictor variables"
   ]
  },
  {
   "cell_type": "code",
   "execution_count": 1131,
   "metadata": {},
   "outputs": [],
   "source": [
    "y=df_train['propertyevaluationvalue']\n",
    "X=df_train.drop('propertyevaluationvalue',axis=1)"
   ]
  },
  {
   "cell_type": "code",
   "execution_count": 1095,
   "metadata": {},
   "outputs": [],
   "source": [
    "X11=df_train.drop('propertyevaluationvalue',axis=1)"
   ]
  },
  {
   "cell_type": "code",
   "execution_count": 1118,
   "metadata": {},
   "outputs": [
    {
     "data": {
      "text/plain": [
       "(16810, 16)"
      ]
     },
     "execution_count": 1118,
     "metadata": {},
     "output_type": "execute_result"
    }
   ],
   "source": [
    "X11.shape"
   ]
  },
  {
   "cell_type": "code",
   "execution_count": 850,
   "metadata": {},
   "outputs": [
    {
     "data": {
      "text/plain": [
       "(16810, 16)"
      ]
     },
     "execution_count": 850,
     "metadata": {},
     "output_type": "execute_result"
    }
   ],
   "source": [
    "X.shape"
   ]
  },
  {
   "cell_type": "code",
   "execution_count": 851,
   "metadata": {},
   "outputs": [
    {
     "data": {
      "text/html": [
       "<div>\n",
       "<style scoped>\n",
       "    .dataframe tbody tr th:only-of-type {\n",
       "        vertical-align: middle;\n",
       "    }\n",
       "\n",
       "    .dataframe tbody tr th {\n",
       "        vertical-align: top;\n",
       "    }\n",
       "\n",
       "    .dataframe thead th {\n",
       "        text-align: right;\n",
       "    }\n",
       "</style>\n",
       "<table border=\"1\" class=\"dataframe\">\n",
       "  <thead>\n",
       "    <tr style=\"text-align: right;\">\n",
       "      <th></th>\n",
       "      <th>Train Data Type</th>\n",
       "      <th>Test Data Type</th>\n",
       "      <th>Train #Levels</th>\n",
       "      <th>Test #Levels</th>\n",
       "      <th>Test Missing</th>\n",
       "      <th>Test Extra</th>\n",
       "    </tr>\n",
       "  </thead>\n",
       "  <tbody>\n",
       "    <tr>\n",
       "      <td>borough</td>\n",
       "      <td>int64</td>\n",
       "      <td>int64</td>\n",
       "      <td>5</td>\n",
       "      <td>5</td>\n",
       "      <td>{}</td>\n",
       "      <td>{}</td>\n",
       "    </tr>\n",
       "    <tr>\n",
       "      <td>surroundings</td>\n",
       "      <td>object</td>\n",
       "      <td>object</td>\n",
       "      <td>243</td>\n",
       "      <td>223</td>\n",
       "      <td>{TRIBECA, SOHO, UPPER EAST SIDE (96-110), MANH...</td>\n",
       "      <td>{BRONX PARK}</td>\n",
       "    </tr>\n",
       "    <tr>\n",
       "      <td>address</td>\n",
       "      <td>object</td>\n",
       "      <td>object</td>\n",
       "      <td>15219</td>\n",
       "      <td>2766</td>\n",
       "      <td>{408 THOMAS STREET, 616 WALES AVE, 155-25 LIND...</td>\n",
       "      <td>{4086 DEREIMER AVENUE, 4007 LACONIA AVENUE, 25...</td>\n",
       "    </tr>\n",
       "    <tr>\n",
       "      <td>zipcode</td>\n",
       "      <td>int64</td>\n",
       "      <td>int64</td>\n",
       "      <td>174</td>\n",
       "      <td>164</td>\n",
       "      <td>{11430, 10280, 10027, 10033, 10034, 10035, 100...</td>\n",
       "      <td>{}</td>\n",
       "    </tr>\n",
       "    <tr>\n",
       "      <td>block</td>\n",
       "      <td>int64</td>\n",
       "      <td>int64</td>\n",
       "      <td>6405</td>\n",
       "      <td>2131</td>\n",
       "      <td>{6, 8198, 8199, 8200, 8201, 8202, 8205, 14, 82...</td>\n",
       "      <td>{4101, 12320, 2085, 39, 10282, 2095, 8257, 416...</td>\n",
       "    </tr>\n",
       "    <tr>\n",
       "      <td>lot</td>\n",
       "      <td>int64</td>\n",
       "      <td>int64</td>\n",
       "      <td>1299</td>\n",
       "      <td>583</td>\n",
       "      <td>{2048, 2073, 4123, 2076, 2084, 2089, 2095, 209...</td>\n",
       "      <td>{4106, 4627, 4628, 4117, 4629, 535, 3607, 2080...</td>\n",
       "    </tr>\n",
       "    <tr>\n",
       "      <td>bldgclasscategory</td>\n",
       "      <td>object</td>\n",
       "      <td>object</td>\n",
       "      <td>52</td>\n",
       "      <td>37</td>\n",
       "      <td>{32 HOSPITAL AND HEALTH FACILITIES, 35  INDOOR...</td>\n",
       "      <td>{}</td>\n",
       "    </tr>\n",
       "    <tr>\n",
       "      <td>noofresidentialunits</td>\n",
       "      <td>int64</td>\n",
       "      <td>int64</td>\n",
       "      <td>70</td>\n",
       "      <td>24</td>\n",
       "      <td>{256, 10, 12, 16, 17, 18, 20, 21, 22, 24, 152,...</td>\n",
       "      <td>{80, 109, 13, 23}</td>\n",
       "    </tr>\n",
       "    <tr>\n",
       "      <td>noofcommercialunits</td>\n",
       "      <td>int64</td>\n",
       "      <td>int64</td>\n",
       "      <td>18</td>\n",
       "      <td>12</td>\n",
       "      <td>{8, 10, 14, 47, 15, 26, 252}</td>\n",
       "      <td>{50}</td>\n",
       "    </tr>\n",
       "    <tr>\n",
       "      <td>totalnoofunits</td>\n",
       "      <td>int64</td>\n",
       "      <td>int64</td>\n",
       "      <td>75</td>\n",
       "      <td>24</td>\n",
       "      <td>{256, 128, 10, 12, 16, 17, 18, 19, 20, 21, 22,...</td>\n",
       "      <td>{80, 130, 109, 23}</td>\n",
       "    </tr>\n",
       "    <tr>\n",
       "      <td>landareainsqft</td>\n",
       "      <td>int64</td>\n",
       "      <td>int64</td>\n",
       "      <td>3898</td>\n",
       "      <td>1259</td>\n",
       "      <td>{16390, 8200, 8209, 24600, 65563, 229405, 8232...</td>\n",
       "      <td>{11264, 12803, 7172, 1541, 18438, 21000, 42000...</td>\n",
       "    </tr>\n",
       "    <tr>\n",
       "      <td>grossareainsqft</td>\n",
       "      <td>int64</td>\n",
       "      <td>int64</td>\n",
       "      <td>3350</td>\n",
       "      <td>1394</td>\n",
       "      <td>{98304, 1, 2, 8193, 8200, 8250, 8285, 100, 110...</td>\n",
       "      <td>{2561, 3585, 37380, 58380, 3084, 1551, 531, 30...</td>\n",
       "    </tr>\n",
       "    <tr>\n",
       "      <td>yearofconstruction</td>\n",
       "      <td>int64</td>\n",
       "      <td>int64</td>\n",
       "      <td>72</td>\n",
       "      <td>72</td>\n",
       "      <td>{}</td>\n",
       "      <td>{}</td>\n",
       "    </tr>\n",
       "    <tr>\n",
       "      <td>taxclass_atevaluationtime</td>\n",
       "      <td>int64</td>\n",
       "      <td>int64</td>\n",
       "      <td>3</td>\n",
       "      <td>3</td>\n",
       "      <td>{}</td>\n",
       "      <td>{}</td>\n",
       "    </tr>\n",
       "    <tr>\n",
       "      <td>bldgclass_atevaluationtime</td>\n",
       "      <td>object</td>\n",
       "      <td>object</td>\n",
       "      <td>101</td>\n",
       "      <td>65</td>\n",
       "      <td>{D9, H4, C6, I7, I5, R6, Q9, M9, G3, C7, O5, P...</td>\n",
       "      <td>{Z2, C5, H3}</td>\n",
       "    </tr>\n",
       "    <tr>\n",
       "      <td>dateofevaluation</td>\n",
       "      <td>datetime64[ns]</td>\n",
       "      <td>datetime64[ns]</td>\n",
       "      <td>572</td>\n",
       "      <td>508</td>\n",
       "      <td>{2013-07-23 00:00:00, 2012-08-11 00:00:00, 201...</td>\n",
       "      <td>{2012-12-01 00:00:00, 2012-12-08 00:00:00, 201...</td>\n",
       "    </tr>\n",
       "  </tbody>\n",
       "</table>\n",
       "</div>"
      ],
      "text/plain": [
       "                           Train Data Type  Test Data Type  Train #Levels  \\\n",
       "borough                              int64           int64              5   \n",
       "surroundings                        object          object            243   \n",
       "address                             object          object          15219   \n",
       "zipcode                              int64           int64            174   \n",
       "block                                int64           int64           6405   \n",
       "lot                                  int64           int64           1299   \n",
       "bldgclasscategory                   object          object             52   \n",
       "noofresidentialunits                 int64           int64             70   \n",
       "noofcommercialunits                  int64           int64             18   \n",
       "totalnoofunits                       int64           int64             75   \n",
       "landareainsqft                       int64           int64           3898   \n",
       "grossareainsqft                      int64           int64           3350   \n",
       "yearofconstruction                   int64           int64             72   \n",
       "taxclass_atevaluationtime            int64           int64              3   \n",
       "bldgclass_atevaluationtime          object          object            101   \n",
       "dateofevaluation            datetime64[ns]  datetime64[ns]            572   \n",
       "\n",
       "                            Test #Levels  \\\n",
       "borough                                5   \n",
       "surroundings                         223   \n",
       "address                             2766   \n",
       "zipcode                              164   \n",
       "block                               2131   \n",
       "lot                                  583   \n",
       "bldgclasscategory                     37   \n",
       "noofresidentialunits                  24   \n",
       "noofcommercialunits                   12   \n",
       "totalnoofunits                        24   \n",
       "landareainsqft                      1259   \n",
       "grossareainsqft                     1394   \n",
       "yearofconstruction                    72   \n",
       "taxclass_atevaluationtime              3   \n",
       "bldgclass_atevaluationtime            65   \n",
       "dateofevaluation                     508   \n",
       "\n",
       "                                                                 Test Missing  \\\n",
       "borough                                                                    {}   \n",
       "surroundings                {TRIBECA, SOHO, UPPER EAST SIDE (96-110), MANH...   \n",
       "address                     {408 THOMAS STREET, 616 WALES AVE, 155-25 LIND...   \n",
       "zipcode                     {11430, 10280, 10027, 10033, 10034, 10035, 100...   \n",
       "block                       {6, 8198, 8199, 8200, 8201, 8202, 8205, 14, 82...   \n",
       "lot                         {2048, 2073, 4123, 2076, 2084, 2089, 2095, 209...   \n",
       "bldgclasscategory           {32 HOSPITAL AND HEALTH FACILITIES, 35  INDOOR...   \n",
       "noofresidentialunits        {256, 10, 12, 16, 17, 18, 20, 21, 22, 24, 152,...   \n",
       "noofcommercialunits                              {8, 10, 14, 47, 15, 26, 252}   \n",
       "totalnoofunits              {256, 128, 10, 12, 16, 17, 18, 19, 20, 21, 22,...   \n",
       "landareainsqft              {16390, 8200, 8209, 24600, 65563, 229405, 8232...   \n",
       "grossareainsqft             {98304, 1, 2, 8193, 8200, 8250, 8285, 100, 110...   \n",
       "yearofconstruction                                                         {}   \n",
       "taxclass_atevaluationtime                                                  {}   \n",
       "bldgclass_atevaluationtime  {D9, H4, C6, I7, I5, R6, Q9, M9, G3, C7, O5, P...   \n",
       "dateofevaluation            {2013-07-23 00:00:00, 2012-08-11 00:00:00, 201...   \n",
       "\n",
       "                                                                   Test Extra  \n",
       "borough                                                                    {}  \n",
       "surroundings                                                     {BRONX PARK}  \n",
       "address                     {4086 DEREIMER AVENUE, 4007 LACONIA AVENUE, 25...  \n",
       "zipcode                                                                    {}  \n",
       "block                       {4101, 12320, 2085, 39, 10282, 2095, 8257, 416...  \n",
       "lot                         {4106, 4627, 4628, 4117, 4629, 535, 3607, 2080...  \n",
       "bldgclasscategory                                                          {}  \n",
       "noofresidentialunits                                        {80, 109, 13, 23}  \n",
       "noofcommercialunits                                                      {50}  \n",
       "totalnoofunits                                             {80, 130, 109, 23}  \n",
       "landareainsqft              {11264, 12803, 7172, 1541, 18438, 21000, 42000...  \n",
       "grossareainsqft             {2561, 3585, 37380, 58380, 3084, 1551, 531, 30...  \n",
       "yearofconstruction                                                         {}  \n",
       "taxclass_atevaluationtime                                                  {}  \n",
       "bldgclass_atevaluationtime                                       {Z2, C5, H3}  \n",
       "dateofevaluation            {2012-12-01 00:00:00, 2012-12-08 00:00:00, 201...  "
      ]
     },
     "execution_count": 851,
     "metadata": {},
     "output_type": "execute_result"
    }
   ],
   "source": [
    "compare_train_test(X,df_test)"
   ]
  },
  {
   "cell_type": "code",
   "execution_count": 397,
   "metadata": {},
   "outputs": [],
   "source": [
    "#X['address']=X.address.apply(lambda x:x.replace(' ','_'))"
   ]
  },
  {
   "cell_type": "code",
   "execution_count": 141,
   "metadata": {},
   "outputs": [],
   "source": [
    "#df_test['address']=df_test.apply(lambda x:x.replace(' ','_'))"
   ]
  },
  {
   "cell_type": "markdown",
   "metadata": {},
   "source": [
    "<h3> <center> <h3> Feature Engineering, Checking Categorical and Numerical columns"
   ]
  },
  {
   "cell_type": "markdown",
   "metadata": {},
   "source": [
    "<h3> Categorical columns"
   ]
  },
  {
   "cell_type": "code",
   "execution_count": 877,
   "metadata": {},
   "outputs": [
    {
     "data": {
      "text/plain": [
       "['address',\n",
       " 'bldgclass_atevaluationtime',\n",
       " 'bldgclasscategory',\n",
       " 'dateofevaluation',\n",
       " 'surroundings']"
      ]
     },
     "execution_count": 877,
     "metadata": {},
     "output_type": "execute_result"
    }
   ],
   "source": [
    "cat_cols"
   ]
  },
  {
   "cell_type": "markdown",
   "metadata": {},
   "source": [
    "<h4>bldgclass_atevaluationtime Column"
   ]
  },
  {
   "cell_type": "code",
   "execution_count": 1132,
   "metadata": {},
   "outputs": [
    {
     "data": {
      "text/plain": [
       "A5    3454\n",
       "A2    1834\n",
       "B2    1778\n",
       "R4    1745\n",
       "B1    1716\n",
       "      ... \n",
       "R8       1\n",
       "Z3       1\n",
       "R6       1\n",
       "I7       1\n",
       "M3       1\n",
       "Name: bldgclass_atevaluationtime, Length: 101, dtype: int64"
      ]
     },
     "execution_count": 1132,
     "metadata": {},
     "output_type": "execute_result"
    }
   ],
   "source": [
    "X['bldgclass_atevaluationtime'].value_counts()"
   ]
  },
  {
   "cell_type": "code",
   "execution_count": 1133,
   "metadata": {},
   "outputs": [
    {
     "data": {
      "text/plain": [
       "A    7333\n",
       "B    4618\n",
       "R    2528\n",
       "C    1311\n",
       "K     194\n",
       "S     144\n",
       "H     144\n",
       "E     140\n",
       "G      98\n",
       "O      82\n",
       "D      69\n",
       "F      68\n",
       "M      24\n",
       "V      15\n",
       "W      13\n",
       "I      11\n",
       "Z       8\n",
       "P       6\n",
       "Q       2\n",
       "N       2\n",
       "Name: bldgclass_atevaluationtime, dtype: int64"
      ]
     },
     "execution_count": 1133,
     "metadata": {},
     "output_type": "execute_result"
    }
   ],
   "source": [
    "X['bldgclass_atevaluationtime']=X['bldgclass_atevaluationtime'].apply(lambda x:x.replace(x,x[0]))\n",
    "X['bldgclass_atevaluationtime'].value_counts()"
   ]
  },
  {
   "cell_type": "code",
   "execution_count": 1130,
   "metadata": {},
   "outputs": [
    {
     "data": {
      "text/plain": [
       "A5        3454\n",
       "A2        1834\n",
       "B2        1778\n",
       "R4        1745\n",
       "B1        1716\n",
       "C0        1133\n",
       "A1        1116\n",
       "others     774\n",
       "B9         640\n",
       "B3         484\n",
       "R3         451\n",
       "A0         374\n",
       "A9         317\n",
       "A3         214\n",
       "R1         187\n",
       "H2         140\n",
       "K1         122\n",
       "R2          82\n",
       "C3          74\n",
       "E1          67\n",
       "S2          57\n",
       "Name: bldgclass_atevaluationtime, dtype: int64"
      ]
     },
     "execution_count": 1130,
     "metadata": {},
     "output_type": "execute_result"
    }
   ],
   "source": [
    "X11['bldgclass_atevaluationtime'].value_counts()[:21]"
   ]
  },
  {
   "cell_type": "code",
   "execution_count": 1121,
   "metadata": {},
   "outputs": [],
   "source": [
    "c=list(X11['bldgclass_atevaluationtime'].value_counts()[:21].keys())"
   ]
  },
  {
   "cell_type": "code",
   "execution_count": 1123,
   "metadata": {},
   "outputs": [
    {
     "data": {
      "text/plain": [
       "['A5',\n",
       " 'A2',\n",
       " 'B2',\n",
       " 'R4',\n",
       " 'B1',\n",
       " 'C0',\n",
       " 'A1',\n",
       " 'B9',\n",
       " 'B3',\n",
       " 'R3',\n",
       " 'A0',\n",
       " 'A9',\n",
       " 'A3',\n",
       " 'R1',\n",
       " 'H2',\n",
       " 'K1',\n",
       " 'R2',\n",
       " 'C3',\n",
       " 'E1',\n",
       " 'S2',\n",
       " 'C1']"
      ]
     },
     "execution_count": 1123,
     "metadata": {},
     "output_type": "execute_result"
    }
   ],
   "source": [
    "c"
   ]
  },
  {
   "cell_type": "code",
   "execution_count": 1126,
   "metadata": {},
   "outputs": [],
   "source": [
    "for i in list(X11['bldgclass_atevaluationtime'].value_counts().keys()):\n",
    "    if i in c:\n",
    "        pass\n",
    "    else:\n",
    "        X11['bldgclass_atevaluationtime']=X11['bldgclass_atevaluationtime'].replace(i,'others')"
   ]
  },
  {
   "cell_type": "code",
   "execution_count": 1127,
   "metadata": {},
   "outputs": [
    {
     "data": {
      "text/plain": [
       "A5        3454\n",
       "A2        1834\n",
       "B2        1778\n",
       "R4        1745\n",
       "B1        1716\n",
       "C0        1133\n",
       "A1        1116\n",
       "others     774\n",
       "B9         640\n",
       "B3         484\n",
       "R3         451\n",
       "A0         374\n",
       "A9         317\n",
       "A3         214\n",
       "R1         187\n",
       "H2         140\n",
       "K1         122\n",
       "R2          82\n",
       "C3          74\n",
       "E1          67\n",
       "S2          57\n",
       "C1          51\n",
       "Name: bldgclass_atevaluationtime, dtype: int64"
      ]
     },
     "execution_count": 1127,
     "metadata": {},
     "output_type": "execute_result"
    }
   ],
   "source": [
    "X11['bldgclass_atevaluationtime'].value_counts()"
   ]
  },
  {
   "cell_type": "code",
   "execution_count": 1099,
   "metadata": {},
   "outputs": [
    {
     "data": {
      "text/plain": [
       "A5    630\n",
       "R4    328\n",
       "B2    319\n",
       "B1    306\n",
       "A2    294\n",
       "     ... \n",
       "O8      1\n",
       "G4      1\n",
       "D4      1\n",
       "C5      1\n",
       "A6      1\n",
       "Name: bldgclass_atevaluationtime, Length: 65, dtype: int64"
      ]
     },
     "execution_count": 1099,
     "metadata": {},
     "output_type": "execute_result"
    }
   ],
   "source": [
    "df_test['bldgclass_atevaluationtime'].value_counts()"
   ]
  },
  {
   "cell_type": "code",
   "execution_count": 1100,
   "metadata": {},
   "outputs": [],
   "source": [
    "df_test['bldgclass_atevaluationtime']=df_test['bldgclass_atevaluationtime'].apply(lambda x:x.replace(x,x[0]))"
   ]
  },
  {
   "cell_type": "code",
   "execution_count": 1101,
   "metadata": {},
   "outputs": [
    {
     "data": {
      "text/plain": [
       "A    1249\n",
       "B     826\n",
       "R     467\n",
       "C     209\n",
       "H      45\n",
       "K      37\n",
       "E      24\n",
       "S      22\n",
       "O      15\n",
       "G      13\n",
       "D      11\n",
       "F      10\n",
       "Z       3\n",
       "W       2\n",
       "V       2\n",
       "M       1\n",
       "Name: bldgclass_atevaluationtime, dtype: int64"
      ]
     },
     "execution_count": 1101,
     "metadata": {},
     "output_type": "execute_result"
    }
   ],
   "source": [
    "df_test['bldgclass_atevaluationtime'].value_counts()"
   ]
  },
  {
   "cell_type": "code",
   "execution_count": 1142,
   "metadata": {},
   "outputs": [
    {
     "data": {
      "text/plain": [
       "A5    630\n",
       "R4    328\n",
       "B2    319\n",
       "B1    306\n",
       "A2    294\n",
       "C0    187\n",
       "A1    162\n",
       "B9    122\n",
       "B3     79\n",
       "R3     77\n",
       "A0     67\n",
       "A9     59\n",
       "H2     44\n",
       "R1     39\n",
       "A3     29\n",
       "K1     21\n",
       "E1     17\n",
       "C1     12\n",
       "R2     10\n",
       "Name: bldgclass_atevaluationtime, dtype: int64"
      ]
     },
     "execution_count": 1142,
     "metadata": {},
     "output_type": "execute_result"
    }
   ],
   "source": [
    "df_test['bldgclass_atevaluationtime'].value_counts()[:19]"
   ]
  },
  {
   "cell_type": "code",
   "execution_count": 1152,
   "metadata": {},
   "outputs": [],
   "source": [
    "dd=list(df_test['bldgclass_atevaluationtime'].value_counts()[:19].keys())"
   ]
  },
  {
   "cell_type": "code",
   "execution_count": 1153,
   "metadata": {},
   "outputs": [],
   "source": [
    "for i in list(df_test['bldgclass_atevaluationtime'].value_counts().keys()):\n",
    "    if i in dd:\n",
    "        pass\n",
    "    else:\n",
    "        df_test['bldgclass_atevaluationtime']=df_test['bldgclass_atevaluationtime'].replace(i,'others')"
   ]
  },
  {
   "cell_type": "code",
   "execution_count": 1155,
   "metadata": {},
   "outputs": [
    {
     "data": {
      "text/plain": [
       "A5        630\n",
       "R4        328\n",
       "B2        319\n",
       "B1        306\n",
       "A2        294\n",
       "C0        187\n",
       "A1        162\n",
       "others    134\n",
       "B9        122\n",
       "B3         79\n",
       "R3         77\n",
       "A0         67\n",
       "A9         59\n",
       "H2         44\n",
       "R1         39\n",
       "A3         29\n",
       "K1         21\n",
       "E1         17\n",
       "C1         12\n",
       "R2         10\n",
       "Name: bldgclass_atevaluationtime, dtype: int64"
      ]
     },
     "execution_count": 1155,
     "metadata": {},
     "output_type": "execute_result"
    }
   ],
   "source": [
    "df_test['bldgclass_atevaluationtime'].value_counts()"
   ]
  },
  {
   "cell_type": "code",
   "execution_count": 419,
   "metadata": {},
   "outputs": [],
   "source": [
    "#X['bldgclasscategory']=X.bldgclasscategory.apply(lambda x:x.replace('_',' '))"
   ]
  },
  {
   "cell_type": "markdown",
   "metadata": {},
   "source": [
    "<h4> bldgclasscategory column"
   ]
  },
  {
   "cell_type": "code",
   "execution_count": 1102,
   "metadata": {},
   "outputs": [
    {
     "data": {
      "text/plain": [
       "0                  02 TWO FAMILY DWELLINGS\n",
       "1                03 THREE FAMILY DWELLINGS\n",
       "2                  02 TWO FAMILY DWELLINGS\n",
       "3                  02 TWO FAMILY DWELLINGS\n",
       "4                  02 TWO FAMILY DWELLINGS\n",
       "                       ...                \n",
       "16805      13 CONDOS - ELEVATOR APARTMENTS\n",
       "16806      13 CONDOS - ELEVATOR APARTMENTS\n",
       "16807      13 CONDOS - ELEVATOR APARTMENTS\n",
       "16808      13 CONDOS - ELEVATOR APARTMENTS\n",
       "16809    08  RENTALS - ELEVATOR APARTMENTS\n",
       "Name: bldgclasscategory, Length: 16810, dtype: object"
      ]
     },
     "execution_count": 1102,
     "metadata": {},
     "output_type": "execute_result"
    }
   ],
   "source": [
    "X['bldgclasscategory']"
   ]
  },
  {
   "cell_type": "code",
   "execution_count": 1103,
   "metadata": {},
   "outputs": [],
   "source": [
    "cc=list(X['bldgclasscategory'].value_counts().keys())"
   ]
  },
  {
   "cell_type": "code",
   "execution_count": 1104,
   "metadata": {},
   "outputs": [
    {
     "data": {
      "text/plain": [
       "['01 ONE FAMILY DWELLINGS',\n",
       " '01  ONE FAMILY HOMES',\n",
       " '02 TWO FAMILY DWELLINGS',\n",
       " '02  TWO FAMILY HOMES',\n",
       " '13 CONDOS - ELEVATOR APARTMENTS',\n",
       " '03 THREE FAMILY DWELLINGS',\n",
       " '03  THREE FAMILY HOMES',\n",
       " '04 TAX CLASS 1 CONDOS',\n",
       " '15 CONDOS - 2-10 UNIT RESIDENTIAL',\n",
       " '25  LUXURY HOTELS',\n",
       " '22  STORE BUILDINGS',\n",
       " '07  RENTALS - WALKUP APARTMENTS',\n",
       " '22 STORE BUILDINGS',\n",
       " '12 CONDOS - WALKUP APARTMENTS',\n",
       " '07 RENTALS - WALKUP APARTMENTS',\n",
       " '30  WAREHOUSES',\n",
       " '30 WAREHOUSES',\n",
       " '29  COMMERCIAL GARAGES',\n",
       " '44 CONDO PARKING',\n",
       " '21  OFFICE BUILDINGS',\n",
       " '08  RENTALS - ELEVATOR APARTMENTS',\n",
       " '29 COMMERCIAL GARAGES',\n",
       " '27  FACTORIES',\n",
       " '21 OFFICE BUILDINGS',\n",
       " '27 FACTORIES',\n",
       " '14  RENTALS - 4-10 UNIT',\n",
       " '14 RENTALS - 4-10 UNIT',\n",
       " '37 RELIGIOUS FACILITIES',\n",
       " '08 RENTALS - ELEVATOR APARTMENTS',\n",
       " '05  TAX CLASS 1 VACANT LAND',\n",
       " '10  COOPS - ELEVATOR APARTMENTS',\n",
       " '37  RELIGIOUS FACILITIES',\n",
       " '32 HOSPITAL AND HEALTH FACILITIES',\n",
       " '33 EDUCATIONAL FACILITIES',\n",
       " '33  EDUCATIONAL FACILITIES',\n",
       " '46 CONDO STORE BUILDINGS',\n",
       " '41  TAX CLASS 4 - OTHER',\n",
       " '09  COOPS - WALKUP APARTMENTS',\n",
       " '11A CONDO-RENTALS',\n",
       " '35 INDOOR PUBLIC AND CULTURAL FACILITIES',\n",
       " '41 TAX CLASS 4 - OTHER',\n",
       " '32  HOSPITAL AND HEALTH FACILITIES',\n",
       " '36  OUTDOOR RECREATIONAL FACILITIES',\n",
       " '26 OTHER HOTELS',\n",
       " '26  OTHER HOTELS',\n",
       " '31  COMMERCIAL VACANT LAND',\n",
       " '35  INDOOR PUBLIC AND CULTURAL FACILITIES',\n",
       " '38  ASYLUMS AND HOMES',\n",
       " '42 CONDO CULTURAL/MEDICAL/EDUCATIONAL/ETC',\n",
       " '45 CONDO HOTELS',\n",
       " '38 ASYLUMS AND HOMES',\n",
       " '16 CONDOS - 2-10 UNIT WITH COMMERCIAL UNIT']"
      ]
     },
     "execution_count": 1104,
     "metadata": {},
     "output_type": "execute_result"
    }
   ],
   "source": [
    "cc"
   ]
  },
  {
   "cell_type": "code",
   "execution_count": 865,
   "metadata": {},
   "outputs": [
    {
     "data": {
      "text/plain": [
       "52"
      ]
     },
     "execution_count": 865,
     "metadata": {},
     "output_type": "execute_result"
    }
   ],
   "source": [
    "len(cc)"
   ]
  },
  {
   "cell_type": "code",
   "execution_count": 345,
   "metadata": {},
   "outputs": [],
   "source": [
    "#df_test['bldgclasscategory']=df_test.bldgclasscategory.apply(lambda x:x.replace(' ','_'))"
   ]
  },
  {
   "cell_type": "code",
   "execution_count": 1105,
   "metadata": {},
   "outputs": [
    {
     "data": {
      "text/plain": [
       "01 ONE FAMILY DWELLINGS                      773\n",
       "02 TWO FAMILY DWELLINGS                      491\n",
       "01  ONE FAMILY HOMES                         481\n",
       "02  TWO FAMILY HOMES                         342\n",
       "13 CONDOS - ELEVATOR APARTMENTS              328\n",
       "03 THREE FAMILY DWELLINGS                    104\n",
       "03  THREE FAMILY HOMES                        83\n",
       "04 TAX CLASS 1 CONDOS                         77\n",
       "25  LUXURY HOTELS                             44\n",
       "15 CONDOS - 2-10 UNIT RESIDENTIAL             39\n",
       "22 STORE BUILDINGS                            20\n",
       "22  STORE BUILDINGS                           17\n",
       "30  WAREHOUSES                                15\n",
       "07 RENTALS - WALKUP APARTMENTS                11\n",
       "07  RENTALS - WALKUP APARTMENTS               11\n",
       "12 CONDOS - WALKUP APARTMENTS                 10\n",
       "29  COMMERCIAL GARAGES                         9\n",
       "21  OFFICE BUILDINGS                           9\n",
       "30 WAREHOUSES                                  9\n",
       "44 CONDO PARKING                               8\n",
       "27  FACTORIES                                  6\n",
       "08  RENTALS - ELEVATOR APARTMENTS              6\n",
       "21 OFFICE BUILDINGS                            6\n",
       "14 RENTALS - 4-10 UNIT                         5\n",
       "14  RENTALS - 4-10 UNIT                        5\n",
       "29 COMMERCIAL GARAGES                          4\n",
       "08 RENTALS - ELEVATOR APARTMENTS               4\n",
       "27 FACTORIES                                   4\n",
       "42 CONDO CULTURAL/MEDICAL/EDUCATIONAL/ETC      3\n",
       "46 CONDO STORE BUILDINGS                       2\n",
       "33  EDUCATIONAL FACILITIES                     2\n",
       "41 TAX CLASS 4 - OTHER                         2\n",
       "05  TAX CLASS 1 VACANT LAND                    2\n",
       "37 RELIGIOUS FACILITIES                        1\n",
       "41  TAX CLASS 4 - OTHER                        1\n",
       "26  OTHER HOTELS                               1\n",
       "10  COOPS - ELEVATOR APARTMENTS                1\n",
       "Name: bldgclasscategory, dtype: int64"
      ]
     },
     "execution_count": 1105,
     "metadata": {},
     "output_type": "execute_result"
    }
   ],
   "source": [
    "df_test['bldgclasscategory'].value_counts()"
   ]
  },
  {
   "cell_type": "code",
   "execution_count": null,
   "metadata": {},
   "outputs": [],
   "source": [
    "#Building class categories were many types where 52 unique catagories in train data and 37 in test so,\n",
    "#from this i analysed and grouped them in 10 categories.\n"
   ]
  },
  {
   "cell_type": "code",
   "execution_count": 356,
   "metadata": {},
   "outputs": [
    {
     "data": {
      "text/plain": [
       "\"\\nl1=['ONE_FAMILY']\\nl2=['TWO_FAMILY']\\nl3=['THREE_FAMILY']\\nl4=['CONDOS']\\nl5=['TAX_CLASS']\\nl6=['FACILITIES']\\nl7=['APARTMENTS']\\nl8=['HOTELS']\\nl9=['BUILDINGS']\\n\""
      ]
     },
     "execution_count": 356,
     "metadata": {},
     "output_type": "execute_result"
    }
   ],
   "source": [
    "'''\n",
    "l1=['ONE_FAMILY']\n",
    "l2=['TWO_FAMILY']\n",
    "l3=['THREE_FAMILY']\n",
    "l4=['CONDOS']\n",
    "l5=['TAX_CLASS']\n",
    "l6=['FACILITIES']\n",
    "l7=['APARTMENTS']\n",
    "l8=['HOTELS']\n",
    "l9=['BUILDINGS']\n",
    "'''"
   ]
  },
  {
   "cell_type": "code",
   "execution_count": 349,
   "metadata": {},
   "outputs": [],
   "source": [
    "#df=pd.DataFrame()"
   ]
  },
  {
   "cell_type": "code",
   "execution_count": 351,
   "metadata": {},
   "outputs": [],
   "source": [
    "#df['new']=X['bldgclasscategory'].replace('01_ONE_FAMILY_DWELLINGS','ONE_FAMILY')"
   ]
  },
  {
   "cell_type": "code",
   "execution_count": 366,
   "metadata": {},
   "outputs": [
    {
     "data": {
      "text/plain": [
       "ONE_FAMILY    4272\n",
       "Name: new, dtype: int64"
      ]
     },
     "execution_count": 366,
     "metadata": {},
     "output_type": "execute_result"
    }
   ],
   "source": [
    "#df[df['new']=='ONE_FAMILY']['new'].value_counts()"
   ]
  },
  {
   "cell_type": "code",
   "execution_count": 431,
   "metadata": {},
   "outputs": [
    {
     "name": "stdout",
     "output_type": "stream",
     "text": [
      "37 RELIGIOUS FACILITIES\n",
      "37  RELIGIOUS FACILITIES\n",
      "32 HOSPITAL AND HEALTH FACILITIES\n",
      "33 EDUCATIONAL FACILITIES\n",
      "33  EDUCATIONAL FACILITIES\n",
      "35 INDOOR PUBLIC AND CULTURAL FACILITIES\n",
      "32  HOSPITAL AND HEALTH FACILITIES\n",
      "36  OUTDOOR RECREATIONAL FACILITIES\n",
      "35  INDOOR PUBLIC AND CULTURAL FACILITIES\n"
     ]
    }
   ],
   "source": [
    "#for i in cc:\n",
    "    #if re.search('FACILITIES',i):\n",
    "        "
   ]
  },
  {
   "cell_type": "code",
   "execution_count": null,
   "metadata": {},
   "outputs": [],
   "source": []
  },
  {
   "cell_type": "code",
   "execution_count": 435,
   "metadata": {},
   "outputs": [],
   "source": [
    "#for i in cc:\n",
    "    #if(re.search('ONE FAMILY',i)):\n",
    "      #  X['bldgclasscategory']=X.bldgclasscategory.apply(lambda x:x.replace(i,'ONE_FAMILY'))"
   ]
  },
  {
   "cell_type": "code",
   "execution_count": 1106,
   "metadata": {},
   "outputs": [],
   "source": [
    "for i in cc:\n",
    "    if(re.search('ONE FAMILY',i)):\n",
    "        X['bldgclasscategory']=X.bldgclasscategory.apply(lambda x:x.replace(i,'ONE_FAMILY'))\n",
    "    elif (re.search('TWO FAMILY',i)):\n",
    "        X['bldgclasscategory']=X.bldgclasscategory.apply(lambda x:x.replace(i,'TWO_FAMILY'))\n",
    "    elif (re.search('THREE FAMILY',i)):\n",
    "        X['bldgclasscategory']=X.bldgclasscategory.apply(lambda x:x.replace(i,'THREE_FAMILY'))\n",
    "    elif (re.search('FACILITIES',i)):\n",
    "        X['bldgclasscategory']=X.bldgclasscategory.apply(lambda x:x.replace(i,'FACILITIES'))\n",
    "    elif (re.search('APARTMENTS',i)):\n",
    "        X['bldgclasscategory']=X.bldgclasscategory.apply(lambda x:x.replace(i,'APARTMENTS'))\n",
    "    elif (re.search('BUILDINGS',i)):\n",
    "        X['bldgclasscategory']=X.bldgclasscategory.apply(lambda x:x.replace(i,'BUILDINGS'))\n",
    "    elif (re.search('HOTELS',i)):\n",
    "         X['bldgclasscategory']=X.bldgclasscategory.apply(lambda x:x.replace(i,'HOTELS'))\n",
    "    elif (re.search('TAX CLASS',i)):\n",
    "         X['bldgclasscategory']=X.bldgclasscategory.apply(lambda x:x.replace(i,'TAX_CLASS'))\n",
    "    elif (re.search('CONDOS',i)):\n",
    "         X['bldgclasscategory']=X.bldgclasscategory.apply(lambda x:x.replace(i,'CONDOS'))\n",
    "    else:\n",
    "         X['bldgclasscategory']=X.bldgclasscategory.apply(lambda x:x.replace(i,'OTHER_BUILDINGS'))\n"
   ]
  },
  {
   "cell_type": "code",
   "execution_count": 1107,
   "metadata": {},
   "outputs": [
    {
     "data": {
      "text/plain": [
       "ONE_FAMILY         7372\n",
       "TWO_FAMILY         4675\n",
       "APARTMENTS         2074\n",
       "THREE_FAMILY       1133\n",
       "TAX_CLASS           473\n",
       "OTHER_BUILDINGS     412\n",
       "BUILDINGS           282\n",
       "CONDOS              188\n",
       "HOTELS              145\n",
       "FACILITIES           56\n",
       "Name: bldgclasscategory, dtype: int64"
      ]
     },
     "execution_count": 1107,
     "metadata": {},
     "output_type": "execute_result"
    }
   ],
   "source": [
    "X['bldgclasscategory'].value_counts()"
   ]
  },
  {
   "cell_type": "code",
   "execution_count": 1108,
   "metadata": {},
   "outputs": [],
   "source": [
    "for i in cc:\n",
    "    if(re.search('ONE FAMILY',i)):\n",
    "        df_test['bldgclasscategory']=df_test.bldgclasscategory.apply(lambda x:x.replace(i,'ONE_FAMILY'))\n",
    "    elif (re.search('TWO FAMILY',i)):\n",
    "        df_test['bldgclasscategory']=df_test.bldgclasscategory.apply(lambda x:x.replace(i,'TWO_FAMILY'))\n",
    "    elif (re.search('THREE FAMILY',i)):\n",
    "        df_test['bldgclasscategory']=df_test.bldgclasscategory.apply(lambda x:x.replace(i,'THREE_FAMILY'))\n",
    "    elif (re.search('FACILITIES',i)):\n",
    "        df_test['bldgclasscategory']=df_test.bldgclasscategory.apply(lambda x:x.replace(i,'FACILITIES'))\n",
    "    elif (re.search('APARTMENTS',i)):\n",
    "        df_test['bldgclasscategory']=df_test.bldgclasscategory.apply(lambda x:x.replace(i,'APARTMENTS'))\n",
    "    elif (re.search('BUILDINGS',i)):\n",
    "        df_test['bldgclasscategory']=df_test.bldgclasscategory.apply(lambda x:x.replace(i,'BUILDINGS'))\n",
    "    elif (re.search('HOTELS',i)):\n",
    "         df_test['bldgclasscategory']=df_test.bldgclasscategory.apply(lambda x:x.replace(i,'HOTELS'))\n",
    "    elif (re.search('TAX CLASS',i)):\n",
    "         df_test['bldgclasscategory']=df_test.bldgclasscategory.apply(lambda x:x.replace(i,'TAX_CLASS'))\n",
    "    elif (re.search('CONDOS',i)):\n",
    "         df_test['bldgclasscategory']=df_test.bldgclasscategory.apply(lambda x:x.replace(i,'CONDOS'))\n",
    "    else:\n",
    "         df_test['bldgclasscategory']=df_test.bldgclasscategory.apply(lambda x:x.replace(i,'OTHER_BUILDINGS'))\n"
   ]
  },
  {
   "cell_type": "code",
   "execution_count": 1109,
   "metadata": {},
   "outputs": [
    {
     "data": {
      "text/plain": [
       "ONE_FAMILY         1254\n",
       "TWO_FAMILY          833\n",
       "APARTMENTS          371\n",
       "THREE_FAMILY        187\n",
       "TAX_CLASS            82\n",
       "OTHER_BUILDINGS      68\n",
       "BUILDINGS            54\n",
       "HOTELS               45\n",
       "CONDOS               39\n",
       "FACILITIES            3\n",
       "Name: bldgclasscategory, dtype: int64"
      ]
     },
     "execution_count": 1109,
     "metadata": {},
     "output_type": "execute_result"
    }
   ],
   "source": [
    "df_test['bldgclasscategory'].value_counts()"
   ]
  },
  {
   "cell_type": "code",
   "execution_count": 1060,
   "metadata": {},
   "outputs": [
    {
     "data": {
      "text/plain": [
       "<matplotlib.axes._subplots.AxesSubplot at 0x67b74603c8>"
      ]
     },
     "execution_count": 1060,
     "metadata": {},
     "output_type": "execute_result"
    },
    {
     "data": {
      "image/png": "[encoded data removed]",
      "text/plain": [
       "<Figure size 1080x360 with 1 Axes>"
      ]
     },
     "metadata": {
      "needs_background": "light"
     },
     "output_type": "display_data"
    }
   ],
   "source": [
    "plt.figure(figsize=(15,5))\n",
    "sns.barplot(x=X['bldgclass_atevaluationtime'],y=df_train['propertyevaluationvalue'])"
   ]
  },
  {
   "cell_type": "code",
   "execution_count": 741,
   "metadata": {},
   "outputs": [],
   "source": [
    "#X=X1.copy()"
   ]
  },
  {
   "cell_type": "code",
   "execution_count": 1034,
   "metadata": {},
   "outputs": [
    {
     "data": {
      "text/plain": [
       "<matplotlib.axes._subplots.AxesSubplot at 0x67b4fb9be0>"
      ]
     },
     "execution_count": 1034,
     "metadata": {},
     "output_type": "execute_result"
    },
    {
     "data": {
      "image/png": "[encoded data removed]",
      "text/plain": [
       "<Figure size 1080x360 with 1 Axes>"
      ]
     },
     "metadata": {
      "needs_background": "light"
     },
     "output_type": "display_data"
    }
   ],
   "source": [
    "plt.figure(figsize=(15,5))\n",
    "sns.barplot(x=X['bldgclasscategory'],y=df_train['propertyevaluationvalue'])"
   ]
  },
  {
   "cell_type": "code",
   "execution_count": 874,
   "metadata": {},
   "outputs": [],
   "source": [
    "X1=X.copy()"
   ]
  },
  {
   "cell_type": "code",
   "execution_count": 875,
   "metadata": {},
   "outputs": [
    {
     "data": {
      "text/plain": [
       "(16810, 16)"
      ]
     },
     "execution_count": 875,
     "metadata": {},
     "output_type": "execute_result"
    }
   ],
   "source": [
    "X.shape"
   ]
  },
  {
   "cell_type": "markdown",
   "metadata": {},
   "source": [
    "<h3> Numberical columns"
   ]
  },
  {
   "cell_type": "code",
   "execution_count": 876,
   "metadata": {},
   "outputs": [
    {
     "data": {
      "text/plain": [
       "Index(['borough', 'zipcode', 'block', 'lot', 'noofresidentialunits',\n",
       "       'noofcommercialunits', 'totalnoofunits', 'landareainsqft',\n",
       "       'grossareainsqft', 'yearofconstruction', 'taxclass_atevaluationtime',\n",
       "       'propertyevaluationvalue'],\n",
       "      dtype='object')"
      ]
     },
     "execution_count": 876,
     "metadata": {},
     "output_type": "execute_result"
    }
   ],
   "source": [
    "num_cols"
   ]
  },
  {
   "cell_type": "code",
   "execution_count": 882,
   "metadata": {},
   "outputs": [
    {
     "data": {
      "text/plain": [
       "1    13645\n",
       "2     2314\n",
       "4      851\n",
       "Name: taxclass_atevaluationtime, dtype: int64"
      ]
     },
     "execution_count": 882,
     "metadata": {},
     "output_type": "execute_result"
    }
   ],
   "source": [
    "X.taxclass_atevaluationtime.value_counts()"
   ]
  },
  {
   "cell_type": "code",
   "execution_count": 883,
   "metadata": {},
   "outputs": [],
   "source": [
    "drop_cols=['address','surroundings','totalnoofunits']"
   ]
  },
  {
   "cell_type": "code",
   "execution_count": 478,
   "metadata": {},
   "outputs": [],
   "source": [
    "#X['evaluation_year']=X['dateofevaluation'].dt.year"
   ]
  },
  {
   "cell_type": "code",
   "execution_count": 884,
   "metadata": {},
   "outputs": [],
   "source": [
    "current_year=2019"
   ]
  },
  {
   "cell_type": "code",
   "execution_count": 885,
   "metadata": {},
   "outputs": [],
   "source": [
    "X['current_age']=current_year-X['yearofconstruction']"
   ]
  },
  {
   "cell_type": "code",
   "execution_count": 886,
   "metadata": {},
   "outputs": [
    {
     "data": {
      "text/plain": [
       "(16810, 17)"
      ]
     },
     "execution_count": 886,
     "metadata": {},
     "output_type": "execute_result"
    }
   ],
   "source": [
    "X.shape"
   ]
  },
  {
   "cell_type": "code",
   "execution_count": 887,
   "metadata": {},
   "outputs": [],
   "source": [
    "df_test1=df_test.copy()"
   ]
  },
  {
   "cell_type": "code",
   "execution_count": 888,
   "metadata": {},
   "outputs": [],
   "source": [
    "df_test['current_age']=current_year-df_test['yearofconstruction']"
   ]
  },
  {
   "cell_type": "code",
   "execution_count": 889,
   "metadata": {},
   "outputs": [
    {
     "data": {
      "text/plain": [
       "(2936, 17)"
      ]
     },
     "execution_count": 889,
     "metadata": {},
     "output_type": "execute_result"
    }
   ],
   "source": [
    "df_test.shape"
   ]
  },
  {
   "cell_type": "code",
   "execution_count": 890,
   "metadata": {},
   "outputs": [
    {
     "data": {
      "text/html": [
       "<div>\n",
       "<style scoped>\n",
       "    .dataframe tbody tr th:only-of-type {\n",
       "        vertical-align: middle;\n",
       "    }\n",
       "\n",
       "    .dataframe tbody tr th {\n",
       "        vertical-align: top;\n",
       "    }\n",
       "\n",
       "    .dataframe thead th {\n",
       "        text-align: right;\n",
       "    }\n",
       "</style>\n",
       "<table border=\"1\" class=\"dataframe\">\n",
       "  <thead>\n",
       "    <tr style=\"text-align: right;\">\n",
       "      <th></th>\n",
       "      <th>borough</th>\n",
       "      <th>surroundings</th>\n",
       "      <th>address</th>\n",
       "      <th>zipcode</th>\n",
       "      <th>block</th>\n",
       "      <th>lot</th>\n",
       "      <th>bldgclasscategory</th>\n",
       "      <th>noofresidentialunits</th>\n",
       "      <th>noofcommercialunits</th>\n",
       "      <th>totalnoofunits</th>\n",
       "      <th>landareainsqft</th>\n",
       "      <th>grossareainsqft</th>\n",
       "      <th>yearofconstruction</th>\n",
       "      <th>taxclass_atevaluationtime</th>\n",
       "      <th>bldgclass_atevaluationtime</th>\n",
       "      <th>dateofevaluation</th>\n",
       "      <th>current_age</th>\n",
       "    </tr>\n",
       "  </thead>\n",
       "  <tbody>\n",
       "    <tr>\n",
       "      <td>0</td>\n",
       "      <td>1</td>\n",
       "      <td>BATHGATE</td>\n",
       "      <td>1473 CROTONA PLACE</td>\n",
       "      <td>10456</td>\n",
       "      <td>2927</td>\n",
       "      <td>127</td>\n",
       "      <td>TWO_FAMILY</td>\n",
       "      <td>2</td>\n",
       "      <td>0</td>\n",
       "      <td>2</td>\n",
       "      <td>1900</td>\n",
       "      <td>2394</td>\n",
       "      <td>1990</td>\n",
       "      <td>1</td>\n",
       "      <td>B</td>\n",
       "      <td>2014-05-30</td>\n",
       "      <td>29</td>\n",
       "    </tr>\n",
       "    <tr>\n",
       "      <td>1</td>\n",
       "      <td>1</td>\n",
       "      <td>BATHGATE</td>\n",
       "      <td>453 EAST 181</td>\n",
       "      <td>10457</td>\n",
       "      <td>3037</td>\n",
       "      <td>110</td>\n",
       "      <td>THREE_FAMILY</td>\n",
       "      <td>3</td>\n",
       "      <td>0</td>\n",
       "      <td>3</td>\n",
       "      <td>1687</td>\n",
       "      <td>3037</td>\n",
       "      <td>2002</td>\n",
       "      <td>1</td>\n",
       "      <td>C</td>\n",
       "      <td>2014-09-13</td>\n",
       "      <td>17</td>\n",
       "    </tr>\n",
       "    <tr>\n",
       "      <td>2</td>\n",
       "      <td>1</td>\n",
       "      <td>BATHGATE</td>\n",
       "      <td>511 EAST 171 STREET</td>\n",
       "      <td>10457</td>\n",
       "      <td>2912</td>\n",
       "      <td>155</td>\n",
       "      <td>TWO_FAMILY</td>\n",
       "      <td>2</td>\n",
       "      <td>0</td>\n",
       "      <td>2</td>\n",
       "      <td>2000</td>\n",
       "      <td>2400</td>\n",
       "      <td>1989</td>\n",
       "      <td>1</td>\n",
       "      <td>B</td>\n",
       "      <td>2014-09-28</td>\n",
       "      <td>30</td>\n",
       "    </tr>\n",
       "    <tr>\n",
       "      <td>3</td>\n",
       "      <td>1</td>\n",
       "      <td>BATHGATE</td>\n",
       "      <td>547 CLAREMONT PARKWAY</td>\n",
       "      <td>10457</td>\n",
       "      <td>2929</td>\n",
       "      <td>134</td>\n",
       "      <td>TWO_FAMILY</td>\n",
       "      <td>2</td>\n",
       "      <td>0</td>\n",
       "      <td>2</td>\n",
       "      <td>2356</td>\n",
       "      <td>2394</td>\n",
       "      <td>1991</td>\n",
       "      <td>1</td>\n",
       "      <td>B</td>\n",
       "      <td>2014-06-05</td>\n",
       "      <td>28</td>\n",
       "    </tr>\n",
       "    <tr>\n",
       "      <td>4</td>\n",
       "      <td>1</td>\n",
       "      <td>BATHGATE</td>\n",
       "      <td>2063 WASHINGTON AVENUE</td>\n",
       "      <td>10457</td>\n",
       "      <td>3036</td>\n",
       "      <td>140</td>\n",
       "      <td>TWO_FAMILY</td>\n",
       "      <td>2</td>\n",
       "      <td>0</td>\n",
       "      <td>2</td>\n",
       "      <td>3346</td>\n",
       "      <td>2308</td>\n",
       "      <td>1993</td>\n",
       "      <td>1</td>\n",
       "      <td>B</td>\n",
       "      <td>2015-02-07</td>\n",
       "      <td>26</td>\n",
       "    </tr>\n",
       "  </tbody>\n",
       "</table>\n",
       "</div>"
      ],
      "text/plain": [
       "   borough surroundings                 address  zipcode  block  lot  \\\n",
       "0        1     BATHGATE      1473 CROTONA PLACE    10456   2927  127   \n",
       "1        1     BATHGATE            453 EAST 181    10457   3037  110   \n",
       "2        1     BATHGATE     511 EAST 171 STREET    10457   2912  155   \n",
       "3        1     BATHGATE   547 CLAREMONT PARKWAY    10457   2929  134   \n",
       "4        1     BATHGATE  2063 WASHINGTON AVENUE    10457   3036  140   \n",
       "\n",
       "  bldgclasscategory  noofresidentialunits  noofcommercialunits  \\\n",
       "0        TWO_FAMILY                     2                    0   \n",
       "1      THREE_FAMILY                     3                    0   \n",
       "2        TWO_FAMILY                     2                    0   \n",
       "3        TWO_FAMILY                     2                    0   \n",
       "4        TWO_FAMILY                     2                    0   \n",
       "\n",
       "   totalnoofunits  landareainsqft  grossareainsqft  yearofconstruction  \\\n",
       "0               2            1900             2394                1990   \n",
       "1               3            1687             3037                2002   \n",
       "2               2            2000             2400                1989   \n",
       "3               2            2356             2394                1991   \n",
       "4               2            3346             2308                1993   \n",
       "\n",
       "   taxclass_atevaluationtime bldgclass_atevaluationtime dateofevaluation  \\\n",
       "0                          1                          B       2014-05-30   \n",
       "1                          1                          C       2014-09-13   \n",
       "2                          1                          B       2014-09-28   \n",
       "3                          1                          B       2014-06-05   \n",
       "4                          1                          B       2015-02-07   \n",
       "\n",
       "   current_age  \n",
       "0           29  \n",
       "1           17  \n",
       "2           30  \n",
       "3           28  \n",
       "4           26  "
      ]
     },
     "execution_count": 890,
     "metadata": {},
     "output_type": "execute_result"
    }
   ],
   "source": [
    "X.head()"
   ]
  },
  {
   "cell_type": "code",
   "execution_count": 1029,
   "metadata": {},
   "outputs": [
    {
     "data": {
      "text/plain": [
       "<seaborn.axisgrid.JointGrid at 0x67bf1b0a20>"
      ]
     },
     "execution_count": 1029,
     "metadata": {},
     "output_type": "execute_result"
    },
    {
     "data": {
      "image/png": "[encoded data removed]",
      "text/plain": [
       "<Figure size 432x432 with 3 Axes>"
      ]
     },
     "metadata": {
      "needs_background": "light"
     },
     "output_type": "display_data"
    }
   ],
   "source": [
    "sns.jointplot(x=X['grossareainsqft'],y=df_train['propertyevaluationvalue'],kind='reg')"
   ]
  },
  {
   "cell_type": "code",
   "execution_count": 1162,
   "metadata": {},
   "outputs": [
    {
     "data": {
      "text/plain": [
       "<matplotlib.axes._subplots.AxesSubplot at 0x67b631e0f0>"
      ]
     },
     "execution_count": 1162,
     "metadata": {},
     "output_type": "execute_result"
    },
    {
     "data": {
      "image/png": "[encoded data removed]",
      "text/plain": [
       "<Figure size 432x288 with 1 Axes>"
      ]
     },
     "metadata": {
      "needs_background": "light"
     },
     "output_type": "display_data"
    }
   ],
   "source": [
    "sns.scatterplot(df_train['noofcommercialunits'],df_train['propertyevaluationvalue'])"
   ]
  },
  {
   "cell_type": "code",
   "execution_count": 892,
   "metadata": {},
   "outputs": [
    {
     "data": {
      "text/plain": [
       "(2316, 31304)"
      ]
     },
     "execution_count": 892,
     "metadata": {},
     "output_type": "execute_result"
    }
   ],
   "source": [
    "df_train['noofcommercialunits'].sum(),df_train['noofresidentialunits'].sum()"
   ]
  },
  {
   "cell_type": "code",
   "execution_count": 894,
   "metadata": {},
   "outputs": [
    {
     "data": {
      "text/plain": [
       "33620"
      ]
     },
     "execution_count": 894,
     "metadata": {},
     "output_type": "execute_result"
    }
   ],
   "source": [
    "#droping totalnoofunits column, where it is explained by noofcommercialunits and noofresidentialunits columns\n",
    "df_train['totalnoofunits'].sum()"
   ]
  },
  {
   "cell_type": "code",
   "execution_count": 895,
   "metadata": {},
   "outputs": [],
   "source": [
    "#droping these columns\n",
    "drop_cols=['address','surroundings','zipcode','yearofconstruction','dateofevaluation','totalnoofunits']"
   ]
  },
  {
   "cell_type": "code",
   "execution_count": 896,
   "metadata": {},
   "outputs": [],
   "source": [
    "X.drop(drop_cols,axis=1,inplace=True)"
   ]
  },
  {
   "cell_type": "code",
   "execution_count": 897,
   "metadata": {},
   "outputs": [
    {
     "data": {
      "text/plain": [
       "(16810, 11)"
      ]
     },
     "execution_count": 897,
     "metadata": {},
     "output_type": "execute_result"
    }
   ],
   "source": [
    "X.shape"
   ]
  },
  {
   "cell_type": "code",
   "execution_count": 642,
   "metadata": {},
   "outputs": [],
   "source": [
    "#df_dummies=pd.get_dummies(X,columns=['bldgclasscategory','bldgclass_atevaluationtime'],drop_first=True)"
   ]
  },
  {
   "cell_type": "code",
   "execution_count": 901,
   "metadata": {},
   "outputs": [
    {
     "data": {
      "text/html": [
       "<div>\n",
       "<style scoped>\n",
       "    .dataframe tbody tr th:only-of-type {\n",
       "        vertical-align: middle;\n",
       "    }\n",
       "\n",
       "    .dataframe tbody tr th {\n",
       "        vertical-align: top;\n",
       "    }\n",
       "\n",
       "    .dataframe thead th {\n",
       "        text-align: right;\n",
       "    }\n",
       "</style>\n",
       "<table border=\"1\" class=\"dataframe\">\n",
       "  <thead>\n",
       "    <tr style=\"text-align: right;\">\n",
       "      <th></th>\n",
       "      <th>borough</th>\n",
       "      <th>block</th>\n",
       "      <th>lot</th>\n",
       "      <th>bldgclasscategory</th>\n",
       "      <th>noofresidentialunits</th>\n",
       "      <th>noofcommercialunits</th>\n",
       "      <th>landareainsqft</th>\n",
       "      <th>grossareainsqft</th>\n",
       "      <th>taxclass_atevaluationtime</th>\n",
       "      <th>bldgclass_atevaluationtime</th>\n",
       "      <th>current_age</th>\n",
       "    </tr>\n",
       "  </thead>\n",
       "  <tbody>\n",
       "    <tr>\n",
       "      <td>0</td>\n",
       "      <td>1</td>\n",
       "      <td>2927</td>\n",
       "      <td>127</td>\n",
       "      <td>TWO_FAMILY</td>\n",
       "      <td>2</td>\n",
       "      <td>0</td>\n",
       "      <td>1900</td>\n",
       "      <td>2394</td>\n",
       "      <td>1</td>\n",
       "      <td>B</td>\n",
       "      <td>29</td>\n",
       "    </tr>\n",
       "    <tr>\n",
       "      <td>1</td>\n",
       "      <td>1</td>\n",
       "      <td>3037</td>\n",
       "      <td>110</td>\n",
       "      <td>THREE_FAMILY</td>\n",
       "      <td>3</td>\n",
       "      <td>0</td>\n",
       "      <td>1687</td>\n",
       "      <td>3037</td>\n",
       "      <td>1</td>\n",
       "      <td>C</td>\n",
       "      <td>17</td>\n",
       "    </tr>\n",
       "    <tr>\n",
       "      <td>2</td>\n",
       "      <td>1</td>\n",
       "      <td>2912</td>\n",
       "      <td>155</td>\n",
       "      <td>TWO_FAMILY</td>\n",
       "      <td>2</td>\n",
       "      <td>0</td>\n",
       "      <td>2000</td>\n",
       "      <td>2400</td>\n",
       "      <td>1</td>\n",
       "      <td>B</td>\n",
       "      <td>30</td>\n",
       "    </tr>\n",
       "    <tr>\n",
       "      <td>3</td>\n",
       "      <td>1</td>\n",
       "      <td>2929</td>\n",
       "      <td>134</td>\n",
       "      <td>TWO_FAMILY</td>\n",
       "      <td>2</td>\n",
       "      <td>0</td>\n",
       "      <td>2356</td>\n",
       "      <td>2394</td>\n",
       "      <td>1</td>\n",
       "      <td>B</td>\n",
       "      <td>28</td>\n",
       "    </tr>\n",
       "    <tr>\n",
       "      <td>4</td>\n",
       "      <td>1</td>\n",
       "      <td>3036</td>\n",
       "      <td>140</td>\n",
       "      <td>TWO_FAMILY</td>\n",
       "      <td>2</td>\n",
       "      <td>0</td>\n",
       "      <td>3346</td>\n",
       "      <td>2308</td>\n",
       "      <td>1</td>\n",
       "      <td>B</td>\n",
       "      <td>26</td>\n",
       "    </tr>\n",
       "  </tbody>\n",
       "</table>\n",
       "</div>"
      ],
      "text/plain": [
       "   borough  block  lot bldgclasscategory  noofresidentialunits  \\\n",
       "0        1   2927  127        TWO_FAMILY                     2   \n",
       "1        1   3037  110      THREE_FAMILY                     3   \n",
       "2        1   2912  155        TWO_FAMILY                     2   \n",
       "3        1   2929  134        TWO_FAMILY                     2   \n",
       "4        1   3036  140        TWO_FAMILY                     2   \n",
       "\n",
       "   noofcommercialunits  landareainsqft  grossareainsqft  \\\n",
       "0                    0            1900             2394   \n",
       "1                    0            1687             3037   \n",
       "2                    0            2000             2400   \n",
       "3                    0            2356             2394   \n",
       "4                    0            3346             2308   \n",
       "\n",
       "   taxclass_atevaluationtime bldgclass_atevaluationtime  current_age  \n",
       "0                          1                          B           29  \n",
       "1                          1                          C           17  \n",
       "2                          1                          B           30  \n",
       "3                          1                          B           28  \n",
       "4                          1                          B           26  "
      ]
     },
     "execution_count": 901,
     "metadata": {},
     "output_type": "execute_result"
    }
   ],
   "source": [
    "X.head()"
   ]
  },
  {
   "cell_type": "code",
   "execution_count": 643,
   "metadata": {},
   "outputs": [
    {
     "data": {
      "text/plain": [
       "(16810, 40)"
      ]
     },
     "execution_count": 643,
     "metadata": {},
     "output_type": "execute_result"
    }
   ],
   "source": [
    "#df_dummies.shape"
   ]
  },
  {
   "cell_type": "code",
   "execution_count": 902,
   "metadata": {},
   "outputs": [],
   "source": [
    "X_new=pd.get_dummies(X,columns=['bldgclasscategory','bldgclass_atevaluationtime'],drop_first=True)"
   ]
  },
  {
   "cell_type": "code",
   "execution_count": 903,
   "metadata": {},
   "outputs": [
    {
     "data": {
      "text/plain": [
       "37"
      ]
     },
     "execution_count": 903,
     "metadata": {},
     "output_type": "execute_result"
    }
   ],
   "source": [
    "len(X_new.columns)"
   ]
  },
  {
   "cell_type": "code",
   "execution_count": 542,
   "metadata": {},
   "outputs": [],
   "source": [
    "#df_test=df_test1.copy()"
   ]
  },
  {
   "cell_type": "code",
   "execution_count": 904,
   "metadata": {},
   "outputs": [
    {
     "data": {
      "text/plain": [
       "(2936, 17)"
      ]
     },
     "execution_count": 904,
     "metadata": {},
     "output_type": "execute_result"
    }
   ],
   "source": [
    "df_test.shape"
   ]
  },
  {
   "cell_type": "code",
   "execution_count": 905,
   "metadata": {},
   "outputs": [],
   "source": [
    "df_test['current_age']=current_year-df_test['yearofconstruction']"
   ]
  },
  {
   "cell_type": "code",
   "execution_count": 906,
   "metadata": {},
   "outputs": [],
   "source": [
    "df_test1=df_test.copy()\n",
    "df_test.drop(drop_cols,axis=1,inplace=True)"
   ]
  },
  {
   "cell_type": "code",
   "execution_count": 911,
   "metadata": {},
   "outputs": [
    {
     "data": {
      "text/plain": [
       "(2936, 11)"
      ]
     },
     "execution_count": 911,
     "metadata": {},
     "output_type": "execute_result"
    }
   ],
   "source": [
    "df_test.shape"
   ]
  },
  {
   "cell_type": "code",
   "execution_count": 909,
   "metadata": {},
   "outputs": [],
   "source": [
    "df_test_new=pd.get_dummies(df_test,columns=['bldgclasscategory','bldgclass_atevaluationtime'],drop_first=True)"
   ]
  },
  {
   "cell_type": "code",
   "execution_count": 912,
   "metadata": {},
   "outputs": [
    {
     "data": {
      "text/plain": [
       "33"
      ]
     },
     "execution_count": 912,
     "metadata": {},
     "output_type": "execute_result"
    }
   ],
   "source": [
    "len(df_test_new.columns)"
   ]
  },
  {
   "cell_type": "code",
   "execution_count": 913,
   "metadata": {},
   "outputs": [
    {
     "name": "stdout",
     "output_type": "stream",
     "text": [
      "(16810, 37)\n",
      "(2936, 37)\n"
     ]
    },
    {
     "data": {
      "text/html": [
       "<div>\n",
       "<style scoped>\n",
       "    .dataframe tbody tr th:only-of-type {\n",
       "        vertical-align: middle;\n",
       "    }\n",
       "\n",
       "    .dataframe tbody tr th {\n",
       "        vertical-align: top;\n",
       "    }\n",
       "\n",
       "    .dataframe thead th {\n",
       "        text-align: right;\n",
       "    }\n",
       "</style>\n",
       "<table border=\"1\" class=\"dataframe\">\n",
       "  <thead>\n",
       "    <tr style=\"text-align: right;\">\n",
       "      <th></th>\n",
       "      <th>Train</th>\n",
       "      <th>Test</th>\n",
       "    </tr>\n",
       "  </thead>\n",
       "  <tbody>\n",
       "    <tr>\n",
       "      <td>bldgclass_atevaluationtime_B</td>\n",
       "      <td>0</td>\n",
       "      <td>0</td>\n",
       "    </tr>\n",
       "    <tr>\n",
       "      <td>bldgclass_atevaluationtime_C</td>\n",
       "      <td>0</td>\n",
       "      <td>0</td>\n",
       "    </tr>\n",
       "    <tr>\n",
       "      <td>bldgclass_atevaluationtime_D</td>\n",
       "      <td>0</td>\n",
       "      <td>0</td>\n",
       "    </tr>\n",
       "    <tr>\n",
       "      <td>bldgclass_atevaluationtime_E</td>\n",
       "      <td>0</td>\n",
       "      <td>0</td>\n",
       "    </tr>\n",
       "    <tr>\n",
       "      <td>bldgclass_atevaluationtime_F</td>\n",
       "      <td>0</td>\n",
       "      <td>0</td>\n",
       "    </tr>\n",
       "    <tr>\n",
       "      <td>bldgclass_atevaluationtime_G</td>\n",
       "      <td>0</td>\n",
       "      <td>0</td>\n",
       "    </tr>\n",
       "    <tr>\n",
       "      <td>bldgclass_atevaluationtime_H</td>\n",
       "      <td>0</td>\n",
       "      <td>0</td>\n",
       "    </tr>\n",
       "    <tr>\n",
       "      <td>bldgclass_atevaluationtime_I</td>\n",
       "      <td>0</td>\n",
       "      <td>0</td>\n",
       "    </tr>\n",
       "    <tr>\n",
       "      <td>bldgclass_atevaluationtime_K</td>\n",
       "      <td>0</td>\n",
       "      <td>0</td>\n",
       "    </tr>\n",
       "    <tr>\n",
       "      <td>bldgclass_atevaluationtime_M</td>\n",
       "      <td>0</td>\n",
       "      <td>0</td>\n",
       "    </tr>\n",
       "    <tr>\n",
       "      <td>bldgclass_atevaluationtime_N</td>\n",
       "      <td>0</td>\n",
       "      <td>0</td>\n",
       "    </tr>\n",
       "    <tr>\n",
       "      <td>bldgclass_atevaluationtime_O</td>\n",
       "      <td>0</td>\n",
       "      <td>0</td>\n",
       "    </tr>\n",
       "    <tr>\n",
       "      <td>bldgclass_atevaluationtime_P</td>\n",
       "      <td>0</td>\n",
       "      <td>0</td>\n",
       "    </tr>\n",
       "    <tr>\n",
       "      <td>bldgclass_atevaluationtime_Q</td>\n",
       "      <td>0</td>\n",
       "      <td>0</td>\n",
       "    </tr>\n",
       "    <tr>\n",
       "      <td>bldgclass_atevaluationtime_R</td>\n",
       "      <td>0</td>\n",
       "      <td>0</td>\n",
       "    </tr>\n",
       "    <tr>\n",
       "      <td>bldgclass_atevaluationtime_S</td>\n",
       "      <td>0</td>\n",
       "      <td>0</td>\n",
       "    </tr>\n",
       "    <tr>\n",
       "      <td>bldgclass_atevaluationtime_V</td>\n",
       "      <td>0</td>\n",
       "      <td>0</td>\n",
       "    </tr>\n",
       "    <tr>\n",
       "      <td>bldgclass_atevaluationtime_W</td>\n",
       "      <td>0</td>\n",
       "      <td>0</td>\n",
       "    </tr>\n",
       "    <tr>\n",
       "      <td>bldgclass_atevaluationtime_Z</td>\n",
       "      <td>0</td>\n",
       "      <td>0</td>\n",
       "    </tr>\n",
       "    <tr>\n",
       "      <td>bldgclasscategory_BUILDINGS</td>\n",
       "      <td>0</td>\n",
       "      <td>0</td>\n",
       "    </tr>\n",
       "    <tr>\n",
       "      <td>bldgclasscategory_CONDOS</td>\n",
       "      <td>0</td>\n",
       "      <td>0</td>\n",
       "    </tr>\n",
       "    <tr>\n",
       "      <td>bldgclasscategory_FACILITIES</td>\n",
       "      <td>0</td>\n",
       "      <td>0</td>\n",
       "    </tr>\n",
       "    <tr>\n",
       "      <td>bldgclasscategory_HOTELS</td>\n",
       "      <td>0</td>\n",
       "      <td>0</td>\n",
       "    </tr>\n",
       "    <tr>\n",
       "      <td>bldgclasscategory_ONE_FAMILY</td>\n",
       "      <td>0</td>\n",
       "      <td>0</td>\n",
       "    </tr>\n",
       "    <tr>\n",
       "      <td>bldgclasscategory_OTHER_BUILDINGS</td>\n",
       "      <td>0</td>\n",
       "      <td>0</td>\n",
       "    </tr>\n",
       "    <tr>\n",
       "      <td>bldgclasscategory_TAX_CLASS</td>\n",
       "      <td>0</td>\n",
       "      <td>0</td>\n",
       "    </tr>\n",
       "    <tr>\n",
       "      <td>bldgclasscategory_THREE_FAMILY</td>\n",
       "      <td>0</td>\n",
       "      <td>0</td>\n",
       "    </tr>\n",
       "    <tr>\n",
       "      <td>bldgclasscategory_TWO_FAMILY</td>\n",
       "      <td>0</td>\n",
       "      <td>0</td>\n",
       "    </tr>\n",
       "    <tr>\n",
       "      <td>block</td>\n",
       "      <td>0</td>\n",
       "      <td>0</td>\n",
       "    </tr>\n",
       "    <tr>\n",
       "      <td>borough</td>\n",
       "      <td>0</td>\n",
       "      <td>0</td>\n",
       "    </tr>\n",
       "    <tr>\n",
       "      <td>current_age</td>\n",
       "      <td>0</td>\n",
       "      <td>0</td>\n",
       "    </tr>\n",
       "    <tr>\n",
       "      <td>grossareainsqft</td>\n",
       "      <td>0</td>\n",
       "      <td>0</td>\n",
       "    </tr>\n",
       "    <tr>\n",
       "      <td>landareainsqft</td>\n",
       "      <td>0</td>\n",
       "      <td>0</td>\n",
       "    </tr>\n",
       "    <tr>\n",
       "      <td>lot</td>\n",
       "      <td>0</td>\n",
       "      <td>0</td>\n",
       "    </tr>\n",
       "    <tr>\n",
       "      <td>noofcommercialunits</td>\n",
       "      <td>0</td>\n",
       "      <td>0</td>\n",
       "    </tr>\n",
       "    <tr>\n",
       "      <td>noofresidentialunits</td>\n",
       "      <td>0</td>\n",
       "      <td>0</td>\n",
       "    </tr>\n",
       "    <tr>\n",
       "      <td>taxclass_atevaluationtime</td>\n",
       "      <td>0</td>\n",
       "      <td>0</td>\n",
       "    </tr>\n",
       "  </tbody>\n",
       "</table>\n",
       "</div>"
      ],
      "text/plain": [
       "                                   Train  Test\n",
       "bldgclass_atevaluationtime_B           0     0\n",
       "bldgclass_atevaluationtime_C           0     0\n",
       "bldgclass_atevaluationtime_D           0     0\n",
       "bldgclass_atevaluationtime_E           0     0\n",
       "bldgclass_atevaluationtime_F           0     0\n",
       "bldgclass_atevaluationtime_G           0     0\n",
       "bldgclass_atevaluationtime_H           0     0\n",
       "bldgclass_atevaluationtime_I           0     0\n",
       "bldgclass_atevaluationtime_K           0     0\n",
       "bldgclass_atevaluationtime_M           0     0\n",
       "bldgclass_atevaluationtime_N           0     0\n",
       "bldgclass_atevaluationtime_O           0     0\n",
       "bldgclass_atevaluationtime_P           0     0\n",
       "bldgclass_atevaluationtime_Q           0     0\n",
       "bldgclass_atevaluationtime_R           0     0\n",
       "bldgclass_atevaluationtime_S           0     0\n",
       "bldgclass_atevaluationtime_V           0     0\n",
       "bldgclass_atevaluationtime_W           0     0\n",
       "bldgclass_atevaluationtime_Z           0     0\n",
       "bldgclasscategory_BUILDINGS            0     0\n",
       "bldgclasscategory_CONDOS               0     0\n",
       "bldgclasscategory_FACILITIES           0     0\n",
       "bldgclasscategory_HOTELS               0     0\n",
       "bldgclasscategory_ONE_FAMILY           0     0\n",
       "bldgclasscategory_OTHER_BUILDINGS      0     0\n",
       "bldgclasscategory_TAX_CLASS            0     0\n",
       "bldgclasscategory_THREE_FAMILY         0     0\n",
       "bldgclasscategory_TWO_FAMILY           0     0\n",
       "block                                  0     0\n",
       "borough                                0     0\n",
       "current_age                            0     0\n",
       "grossareainsqft                        0     0\n",
       "landareainsqft                         0     0\n",
       "lot                                    0     0\n",
       "noofcommercialunits                    0     0\n",
       "noofresidentialunits                   0     0\n",
       "taxclass_atevaluationtime              0     0"
      ]
     },
     "execution_count": 913,
     "metadata": {},
     "output_type": "execute_result"
    }
   ],
   "source": [
    "X_train_aligned, X_test_aligned = X_new.align(df_test_new, join='outer', axis=1, fill_value=0)\n",
    "print(X_train_aligned.shape)\n",
    "print(X_test_aligned.shape)\n",
    "\n",
    "## Checking null values in both train and test data sets\n",
    "pd.DataFrame({\"Train\":X_train_aligned.isnull().sum(),\"Test\":X_test_aligned.isnull().sum()})"
   ]
  },
  {
   "cell_type": "markdown",
   "metadata": {},
   "source": [
    "<h3>Train Test Split of Data"
   ]
  },
  {
   "cell_type": "code",
   "execution_count": 922,
   "metadata": {},
   "outputs": [],
   "source": [
    "X_train, X_test, y_train, y_test = train_test_split(X_train_aligned, y, test_size=0.3, random_state=123)"
   ]
  },
  {
   "cell_type": "code",
   "execution_count": 1165,
   "metadata": {},
   "outputs": [
    {
     "name": "stdout",
     "output_type": "stream",
     "text": [
      "Train Shape : (11767, 37)\n",
      "Test Shape : (5043, 37)\n"
     ]
    }
   ],
   "source": [
    "print('Train Shape :',X_train.shape)\n",
    "print('Test Shape :',X_test.shape)"
   ]
  },
  {
   "cell_type": "markdown",
   "metadata": {},
   "source": [
    "<h1><center> Model Building"
   ]
  },
  {
   "cell_type": "markdown",
   "metadata": {},
   "source": [
    "<h3> Random Forest"
   ]
  },
  {
   "cell_type": "code",
   "execution_count": 923,
   "metadata": {},
   "outputs": [],
   "source": [
    "rf=RandomForestRegressor()"
   ]
  },
  {
   "cell_type": "code",
   "execution_count": 924,
   "metadata": {},
   "outputs": [
    {
     "data": {
      "text/plain": [
       "RandomForestRegressor(bootstrap=True, criterion='mse', max_depth=None,\n",
       "                      max_features='auto', max_leaf_nodes=None,\n",
       "                      min_impurity_decrease=0.0, min_impurity_split=None,\n",
       "                      min_samples_leaf=1, min_samples_split=2,\n",
       "                      min_weight_fraction_leaf=0.0, n_estimators=10,\n",
       "                      n_jobs=None, oob_score=False, random_state=None,\n",
       "                      verbose=0, warm_start=False)"
      ]
     },
     "execution_count": 924,
     "metadata": {},
     "output_type": "execute_result"
    }
   ],
   "source": [
    "rf.fit(X_train,y_train)"
   ]
  },
  {
   "cell_type": "code",
   "execution_count": 925,
   "metadata": {},
   "outputs": [],
   "source": [
    "y_pred_rf=rf.predict(X_test)"
   ]
  },
  {
   "cell_type": "code",
   "execution_count": 926,
   "metadata": {},
   "outputs": [
    {
     "data": {
      "text/plain": [
       "536835.4552519699"
      ]
     },
     "execution_count": 926,
     "metadata": {},
     "output_type": "execute_result"
    }
   ],
   "source": [
    "np.sqrt(mean_squared_error(y_test,y_pred_rf))"
   ]
  },
  {
   "cell_type": "markdown",
   "metadata": {},
   "source": [
    "<h4> 2nd fit"
   ]
  },
  {
   "cell_type": "code",
   "execution_count": 927,
   "metadata": {},
   "outputs": [],
   "source": [
    "def mean_absolute_percentage_error(y_true, y_pred): \n",
    "    y_true, y_pred = np.array(y_true), np.array(y_pred)\n",
    "    return np.mean(np.abs((y_true - y_pred) / y_true)) * 100"
   ]
  },
  {
   "cell_type": "code",
   "execution_count": 928,
   "metadata": {},
   "outputs": [
    {
     "data": {
      "text/plain": [
       "14.705799170748657"
      ]
     },
     "execution_count": 928,
     "metadata": {},
     "output_type": "execute_result"
    }
   ],
   "source": [
    "mean_absolute_percentage_error(y_train,rf.predict(X_train))"
   ]
  },
  {
   "cell_type": "code",
   "execution_count": 929,
   "metadata": {},
   "outputs": [
    {
     "data": {
      "text/plain": [
       "38.23120468988808"
      ]
     },
     "execution_count": 929,
     "metadata": {},
     "output_type": "execute_result"
    }
   ],
   "source": [
    "mean_absolute_percentage_error(y_test,y_pred_rf)"
   ]
  },
  {
   "cell_type": "markdown",
   "metadata": {},
   "source": [
    "<h4>1st fit"
   ]
  },
  {
   "cell_type": "code",
   "execution_count": null,
   "metadata": {},
   "outputs": [],
   "source": [
    "prnt(12)\n",
    "np.arive(10)"
   ]
  },
  {
   "cell_type": "code",
   "execution_count": 687,
   "metadata": {},
   "outputs": [
    {
     "data": {
      "text/plain": [
       "14.455878496621061"
      ]
     },
     "execution_count": 687,
     "metadata": {},
     "output_type": "execute_result"
    }
   ],
   "source": [
    "mean_absolute_percentage_error(y_train,rf.predict(X_train))"
   ]
  },
  {
   "cell_type": "code",
   "execution_count": 686,
   "metadata": {},
   "outputs": [
    {
     "data": {
      "text/plain": [
       "37.55714507611031"
      ]
     },
     "execution_count": 686,
     "metadata": {},
     "output_type": "execute_result"
    }
   ],
   "source": [
    "mean_absolute_percentage_error(y_test,y_pred_rf)"
   ]
  },
  {
   "cell_type": "markdown",
   "metadata": {},
   "source": [
    "<h3> checking for outliers and removing based on Target variable"
   ]
  },
  {
   "cell_type": "code",
   "execution_count": 930,
   "metadata": {},
   "outputs": [
    {
     "data": {
      "text/plain": [
       "count    1.681000e+04\n",
       "mean     8.084101e+05\n",
       "std      8.978317e+05\n",
       "min      1.000440e+05\n",
       "25%      4.250000e+05\n",
       "50%      5.900000e+05\n",
       "75%      8.450000e+05\n",
       "max      9.935000e+06\n",
       "Name: propertyevaluationvalue, dtype: float64"
      ]
     },
     "execution_count": 930,
     "metadata": {},
     "output_type": "execute_result"
    }
   ],
   "source": [
    "df_train['propertyevaluationvalue'].describe()"
   ]
  },
  {
   "cell_type": "code",
   "execution_count": 931,
   "metadata": {},
   "outputs": [
    {
     "data": {
      "text/plain": [
       "<matplotlib.axes._subplots.AxesSubplot at 0x67ab04acc0>"
      ]
     },
     "execution_count": 931,
     "metadata": {},
     "output_type": "execute_result"
    },
    {
     "data": {
      "image/png": "[encoded data removed]",
      "text/plain": [
       "<Figure size 432x288 with 1 Axes>"
      ]
     },
     "metadata": {
      "needs_background": "light"
     },
     "output_type": "display_data"
    }
   ],
   "source": [
    "sns.distplot(y)"
   ]
  },
  {
   "cell_type": "code",
   "execution_count": 932,
   "metadata": {},
   "outputs": [
    {
     "data": {
      "text/plain": [
       "(16603, 17)"
      ]
     },
     "execution_count": 932,
     "metadata": {},
     "output_type": "execute_result"
    }
   ],
   "source": [
    "df_train[(df_train['propertyevaluationvalue']<5000000)].shape\n"
   ]
  },
  {
   "cell_type": "code",
   "execution_count": 933,
   "metadata": {},
   "outputs": [
    {
     "data": {
      "text/plain": [
       "<matplotlib.axes._subplots.AxesSubplot at 0x67b2c421d0>"
      ]
     },
     "execution_count": 933,
     "metadata": {},
     "output_type": "execute_result"
    },
    {
     "data": {
      "image/png": "[encoded data removed]",
      "text/plain": [
       "<Figure size 432x288 with 1 Axes>"
      ]
     },
     "metadata": {
      "needs_background": "light"
     },
     "output_type": "display_data"
    }
   ],
   "source": [
    "sns.distplot(y[y>5000000])"
   ]
  },
  {
   "cell_type": "code",
   "execution_count": 934,
   "metadata": {},
   "outputs": [
    {
     "data": {
      "text/plain": [
       "<matplotlib.axes._subplots.AxesSubplot at 0x67aad80208>"
      ]
     },
     "execution_count": 934,
     "metadata": {},
     "output_type": "execute_result"
    },
    {
     "data": {
      "image/png": "[encoded data removed]",
      "text/plain": [
       "<Figure size 432x288 with 1 Axes>"
      ]
     },
     "metadata": {
      "needs_background": "light"
     },
     "output_type": "display_data"
    }
   ],
   "source": [
    "Z=np.abs(stats.zscore(df_train['propertyevaluationvalue']))\n",
    "sns.distplot(Z[Z<4])"
   ]
  },
  {
   "cell_type": "code",
   "execution_count": 935,
   "metadata": {},
   "outputs": [
    {
     "data": {
      "text/plain": [
       "<matplotlib.axes._subplots.AxesSubplot at 0x67ae2a7da0>"
      ]
     },
     "execution_count": 935,
     "metadata": {},
     "output_type": "execute_result"
    },
    {
     "data": {
      "image/png": "[encoded data removed]",
      "text/plain": [
       "<Figure size 432x288 with 1 Axes>"
      ]
     },
     "metadata": {
      "needs_background": "light"
     },
     "output_type": "display_data"
    }
   ],
   "source": [
    "sns.distplot(Z[Z<3])"
   ]
  },
  {
   "cell_type": "code",
   "execution_count": 936,
   "metadata": {},
   "outputs": [],
   "source": [
    "X_outlier=pd.concat([X_train_aligned,y],axis=1)"
   ]
  },
  {
   "cell_type": "code",
   "execution_count": 938,
   "metadata": {},
   "outputs": [
    {
     "data": {
      "text/plain": [
       "(16810, 38)"
      ]
     },
     "execution_count": 938,
     "metadata": {},
     "output_type": "execute_result"
    }
   ],
   "source": [
    "X_outlier.shape"
   ]
  },
  {
   "cell_type": "code",
   "execution_count": 937,
   "metadata": {},
   "outputs": [
    {
     "data": {
      "text/plain": [
       "Index(['bldgclass_atevaluationtime_B', 'bldgclass_atevaluationtime_C',\n",
       "       'bldgclass_atevaluationtime_D', 'bldgclass_atevaluationtime_E',\n",
       "       'bldgclass_atevaluationtime_F', 'bldgclass_atevaluationtime_G',\n",
       "       'bldgclass_atevaluationtime_H', 'bldgclass_atevaluationtime_I',\n",
       "       'bldgclass_atevaluationtime_K', 'bldgclass_atevaluationtime_M',\n",
       "       'bldgclass_atevaluationtime_N', 'bldgclass_atevaluationtime_O',\n",
       "       'bldgclass_atevaluationtime_P', 'bldgclass_atevaluationtime_Q',\n",
       "       'bldgclass_atevaluationtime_R', 'bldgclass_atevaluationtime_S',\n",
       "       'bldgclass_atevaluationtime_V', 'bldgclass_atevaluationtime_W',\n",
       "       'bldgclass_atevaluationtime_Z', 'bldgclasscategory_BUILDINGS',\n",
       "       'bldgclasscategory_CONDOS', 'bldgclasscategory_FACILITIES',\n",
       "       'bldgclasscategory_HOTELS', 'bldgclasscategory_ONE_FAMILY',\n",
       "       'bldgclasscategory_OTHER_BUILDINGS', 'bldgclasscategory_TAX_CLASS',\n",
       "       'bldgclasscategory_THREE_FAMILY', 'bldgclasscategory_TWO_FAMILY',\n",
       "       'block', 'borough', 'current_age', 'grossareainsqft', 'landareainsqft',\n",
       "       'lot', 'noofcommercialunits', 'noofresidentialunits',\n",
       "       'taxclass_atevaluationtime', 'propertyevaluationvalue'],\n",
       "      dtype='object')"
      ]
     },
     "execution_count": 937,
     "metadata": {},
     "output_type": "execute_result"
    }
   ],
   "source": [
    "X_outlier.columns"
   ]
  },
  {
   "cell_type": "code",
   "execution_count": 939,
   "metadata": {},
   "outputs": [],
   "source": [
    "\n",
    "X_outlier=X_outlier[X_outlier['propertyevaluationvalue']<5000000]"
   ]
  },
  {
   "cell_type": "markdown",
   "metadata": {},
   "source": [
    "<h3> Dropped 207 records based on propertyevaluationvalue grater than 5000000"
   ]
  },
  {
   "cell_type": "code",
   "execution_count": 940,
   "metadata": {},
   "outputs": [
    {
     "data": {
      "text/plain": [
       "(16603, 38)"
      ]
     },
     "execution_count": 940,
     "metadata": {},
     "output_type": "execute_result"
    }
   ],
   "source": [
    "X_outlier.shape"
   ]
  },
  {
   "cell_type": "code",
   "execution_count": 943,
   "metadata": {},
   "outputs": [],
   "source": [
    "y_outlier=X_outlier['propertyevaluationvalue']\n",
    "X_outlier=X_outlier.drop('propertyevaluationvalue',axis=1)\n"
   ]
  },
  {
   "cell_type": "code",
   "execution_count": 944,
   "metadata": {},
   "outputs": [],
   "source": [
    "X_train_out, X_test_out, y_train_out, y_test_out = train_test_split(X_outlier, y_outlier, test_size=0.3, random_state=123)"
   ]
  },
  {
   "cell_type": "code",
   "execution_count": 945,
   "metadata": {},
   "outputs": [
    {
     "data": {
      "text/plain": [
       "RandomForestRegressor(bootstrap=True, criterion='mse', max_depth=None,\n",
       "                      max_features='auto', max_leaf_nodes=None,\n",
       "                      min_impurity_decrease=0.0, min_impurity_split=None,\n",
       "                      min_samples_leaf=1, min_samples_split=2,\n",
       "                      min_weight_fraction_leaf=0.0, n_estimators=10,\n",
       "                      n_jobs=None, oob_score=False, random_state=None,\n",
       "                      verbose=0, warm_start=False)"
      ]
     },
     "execution_count": 945,
     "metadata": {},
     "output_type": "execute_result"
    }
   ],
   "source": [
    "rf.fit(X_train_out,y_train_out)"
   ]
  },
  {
   "cell_type": "markdown",
   "metadata": {},
   "source": [
    "<h3> 2nd fit"
   ]
  },
  {
   "cell_type": "code",
   "execution_count": 947,
   "metadata": {},
   "outputs": [],
   "source": [
    "y_pred_rf_out=rf.predict(X_test_out)"
   ]
  },
  {
   "cell_type": "code",
   "execution_count": 948,
   "metadata": {},
   "outputs": [
    {
     "data": {
      "text/plain": [
       "13.657529184520639"
      ]
     },
     "execution_count": 948,
     "metadata": {},
     "output_type": "execute_result"
    }
   ],
   "source": [
    "mean_absolute_percentage_error(y_train_out,rf.predict(X_train_out))"
   ]
  },
  {
   "cell_type": "code",
   "execution_count": 949,
   "metadata": {},
   "outputs": [
    {
     "data": {
      "text/plain": [
       "34.09523388602367"
      ]
     },
     "execution_count": 949,
     "metadata": {},
     "output_type": "execute_result"
    }
   ],
   "source": [
    "mean_absolute_percentage_error(y_test_out,y_pred_rf_out)"
   ]
  },
  {
   "cell_type": "code",
   "execution_count": 950,
   "metadata": {},
   "outputs": [
    {
     "data": {
      "text/plain": [
       "([87166.74466676796,\n",
       "  84610.93052597382,\n",
       "  82185.21627484327,\n",
       "  81800.64017048125,\n",
       "  79283.78970627015,\n",
       "  77551.76347506995,\n",
       "  77245.94935075985,\n",
       "  77095.92710011924,\n",
       "  77111.43758170556,\n",
       "  76909.49531743563],\n",
       " [233609.60229316397,\n",
       "  224183.58193436323,\n",
       "  215158.2814925419,\n",
       "  214822.67483847067,\n",
       "  212898.8277848782,\n",
       "  208311.91246853434,\n",
       "  204015.69661732804,\n",
       "  204272.31558797043,\n",
       "  201106.02787945495,\n",
       "  196611.32976332484])"
      ]
     },
     "execution_count": 950,
     "metadata": {},
     "output_type": "execute_result"
    },
    {
     "data": {
      "image/png": "[encoded data removed]",
      "text/plain": [
       "<Figure size 432x288 with 1 Axes>"
      ]
     },
     "metadata": {},
     "output_type": "display_data"
    }
   ],
   "source": [
    "plot_learning_curves(X_train_out,y_train_out,X_test_out,y_test_out, rf,scoring='mean_absolute_error')"
   ]
  },
  {
   "cell_type": "code",
   "execution_count": null,
   "metadata": {},
   "outputs": [],
   "source": []
  },
  {
   "cell_type": "markdown",
   "metadata": {},
   "source": [
    "<h1> 1st fit-submitted"
   ]
  },
  {
   "cell_type": "code",
   "execution_count": 784,
   "metadata": {},
   "outputs": [
    {
     "data": {
      "text/plain": [
       "0.011737901398561049"
      ]
     },
     "execution_count": 784,
     "metadata": {},
     "output_type": "execute_result"
    }
   ],
   "source": [
    "mean_absolute_percentage_error(y_train_out,rf.predict(X_train_out))"
   ]
  },
  {
   "cell_type": "code",
   "execution_count": 782,
   "metadata": {},
   "outputs": [
    {
     "data": {
      "text/plain": [
       "0.027000695654491237"
      ]
     },
     "execution_count": 782,
     "metadata": {},
     "output_type": "execute_result"
    }
   ],
   "source": [
    "mean_absolute_percentage_error(y_test_out,y_pred_rf_out)"
   ]
  },
  {
   "cell_type": "code",
   "execution_count": 788,
   "metadata": {},
   "outputs": [
    {
     "data": {
      "text/plain": [
       "([1750.260154905335,\n",
       "  995.4714716006879,\n",
       "  662.8891853126789,\n",
       "  476.5876506024087,\n",
       "  306.18470142832547,\n",
       "  272.7116018930158,\n",
       "  216.52406883835278,\n",
       "  223.2436162202861,\n",
       "  177.8638301940912,\n",
       "  161.7458182756833],\n",
       " [4501.653864685806,\n",
       "  2159.428106805862,\n",
       "  1410.1247339891593,\n",
       "  980.3187311784785,\n",
       "  760.2599879542264,\n",
       "  615.5626581007822,\n",
       "  554.5749648664929,\n",
       "  491.2625376430431,\n",
       "  430.23926922304753,\n",
       "  420.2304356554916])"
      ]
     },
     "execution_count": 788,
     "metadata": {},
     "output_type": "execute_result"
    },
    {
     "data": {
      "image/png": "[encoded data removed]",
      "text/plain": [
       "<Figure size 432x288 with 1 Axes>"
      ]
     },
     "metadata": {},
     "output_type": "display_data"
    }
   ],
   "source": [
    "plot_learning_curves(X_train_out,y_train_out,X_test_out,y_test_out, rf,scoring='mean_absolute_error')"
   ]
  },
  {
   "cell_type": "code",
   "execution_count": 791,
   "metadata": {},
   "outputs": [],
   "source": [
    "y_out=X_outlier['propertyevaluationvalue']\n",
    "X_outlier=X_outlier.drop('propertyevaluationvalue',axis=1)"
   ]
  },
  {
   "cell_type": "code",
   "execution_count": 792,
   "metadata": {},
   "outputs": [
    {
     "data": {
      "text/plain": [
       "RandomForestRegressor(bootstrap=True, criterion='mse', max_depth=None,\n",
       "                      max_features='auto', max_leaf_nodes=None,\n",
       "                      min_impurity_decrease=0.0, min_impurity_split=None,\n",
       "                      min_samples_leaf=1, min_samples_split=2,\n",
       "                      min_weight_fraction_leaf=0.0, n_estimators=10,\n",
       "                      n_jobs=None, oob_score=False, random_state=None,\n",
       "                      verbose=0, warm_start=False)"
      ]
     },
     "execution_count": 792,
     "metadata": {},
     "output_type": "execute_result"
    }
   ],
   "source": [
    "rf.fit(X_outlier,y_out)"
   ]
  },
  {
   "cell_type": "code",
   "execution_count": 797,
   "metadata": {},
   "outputs": [
    {
     "data": {
      "image/png": "[encoded data removed]",
      "text/plain": [
       "<Figure size 576x1080 with 1 Axes>"
      ]
     },
     "metadata": {
      "needs_background": "light"
     },
     "output_type": "display_data"
    }
   ],
   "source": [
    "rf.feature_importances_\n",
    "features = list(X_outlier.columns)\n",
    "importances = rf.feature_importances_\n",
    "indices = np.argsort(importances)\n",
    "\n",
    "plt.figure(figsize=(8,15))\n",
    "plt.title('Feature Importances')\n",
    "plt.barh(range(len(indices)), importances[indices], color='b', align='center')\n",
    "plt.yticks(range(len(indices)), [features[i] for i in indices])\n",
    "plt.xlabel('Relative Importance')\n",
    "plt.tight_layout()\n",
    "plt.show()"
   ]
  },
  {
   "cell_type": "code",
   "execution_count": 794,
   "metadata": {},
   "outputs": [
    {
     "data": {
      "text/plain": [
       "0       PR51101\n",
       "1       PR51102\n",
       "2       PR51103\n",
       "3       PR51104\n",
       "4       PR51105\n",
       "         ...   \n",
       "2931    PR54032\n",
       "2932    PR54033\n",
       "2933    PR54034\n",
       "2934    PR54035\n",
       "2935    PR54036\n",
       "Name: propertyid, Length: 2936, dtype: object"
      ]
     },
     "execution_count": 794,
     "metadata": {},
     "output_type": "execute_result"
    }
   ],
   "source": [
    "df_id"
   ]
  },
  {
   "cell_type": "code",
   "execution_count": 793,
   "metadata": {},
   "outputs": [],
   "source": [
    "y_pred_final=rf.predict(df_test)"
   ]
  },
  {
   "cell_type": "code",
   "execution_count": 795,
   "metadata": {},
   "outputs": [],
   "source": [
    "submit=pd.DataFrame({'PropertyID':df_id,'PropertyEvaluationvalue':y_pred_final})\n",
    "submit.to_csv('submission.csv',index=False)"
   ]
  },
  {
   "cell_type": "markdown",
   "metadata": {},
   "source": [
    "<h3> GridSearchCV"
   ]
  },
  {
   "cell_type": "code",
   "execution_count": 983,
   "metadata": {},
   "outputs": [],
   "source": [
    "rf=RandomForestRegressor(random_state=123)"
   ]
  },
  {
   "cell_type": "code",
   "execution_count": 1037,
   "metadata": {},
   "outputs": [],
   "source": [
    "parameters={\n",
    "    \n",
    "    'max_depth':np.arange(3,21,2),\n",
    "\n",
    "    'min_samples_leaf':[2,4,7]\n",
    "    \n",
    "}\n",
    "rf_grid=GridSearchCV(estimator=rf,param_grid=parameters,n_jobs=-1,cv=10)"
   ]
  },
  {
   "cell_type": "code",
   "execution_count": 1038,
   "metadata": {},
   "outputs": [
    {
     "data": {
      "text/plain": [
       "GridSearchCV(cv=10, error_score='raise-deprecating',\n",
       "             estimator=RandomForestRegressor(bootstrap=True, criterion='mse',\n",
       "                                             max_depth=None,\n",
       "                                             max_features='auto',\n",
       "                                             max_leaf_nodes=None,\n",
       "                                             min_impurity_decrease=0.0,\n",
       "                                             min_impurity_split=None,\n",
       "                                             min_samples_leaf=1,\n",
       "                                             min_samples_split=2,\n",
       "                                             min_weight_fraction_leaf=0.0,\n",
       "                                             n_estimators=10, n_jobs=None,\n",
       "                                             oob_score=False, random_state=123,\n",
       "                                             verbose=0, warm_start=False),\n",
       "             iid='warn', n_jobs=-1,\n",
       "             param_grid={'max_depth': array([ 3,  5,  7,  9, 11, 13, 15, 17, 19]),\n",
       "                         'min_samples_leaf': [2, 4, 7]},\n",
       "             pre_dispatch='2*n_jobs', refit=True, return_train_score=False,\n",
       "             scoring=None, verbose=0)"
      ]
     },
     "execution_count": 1038,
     "metadata": {},
     "output_type": "execute_result"
    }
   ],
   "source": [
    "rf_grid.fit(X_train_out,y_train_out)"
   ]
  },
  {
   "cell_type": "code",
   "execution_count": 1039,
   "metadata": {},
   "outputs": [
    {
     "data": {
      "text/plain": [
       "{'max_depth': 15, 'min_samples_leaf': 2}"
      ]
     },
     "execution_count": 1039,
     "metadata": {},
     "output_type": "execute_result"
    }
   ],
   "source": [
    "rf_grid.best_params_"
   ]
  },
  {
   "cell_type": "code",
   "execution_count": 1040,
   "metadata": {},
   "outputs": [],
   "source": [
    "y_pred_grid=rf_grid.best_estimator_.predict(X_test_out)"
   ]
  },
  {
   "cell_type": "code",
   "execution_count": 1041,
   "metadata": {},
   "outputs": [
    {
     "name": "stdout",
     "output_type": "stream",
     "text": [
      "Train error: 20.861102253356872\n"
     ]
    }
   ],
   "source": [
    "print('Train error:',mean_absolute_percentage_error(y_train_out,rf_grid.best_estimator_.predict(X_train_out)))"
   ]
  },
  {
   "cell_type": "code",
   "execution_count": 1042,
   "metadata": {},
   "outputs": [
    {
     "name": "stdout",
     "output_type": "stream",
     "text": [
      "Test error: 34.09523388602367\n"
     ]
    }
   ],
   "source": [
    "print('Test error:',mean_absolute_percentage_error(y_test_out,y_pred_rf_out))"
   ]
  },
  {
   "cell_type": "code",
   "execution_count": 1043,
   "metadata": {},
   "outputs": [
    {
     "data": {
      "text/plain": [
       "([103463.32761227158,\n",
       "  107929.39151154237,\n",
       "  109728.75198277047,\n",
       "  113205.79862747145,\n",
       "  111736.93639722274,\n",
       "  113587.36537075951,\n",
       "  113593.35602373966,\n",
       "  111377.89420162914,\n",
       "  112698.67866206545,\n",
       "  113428.94970536511],\n",
       " [237481.3302062303,\n",
       "  224545.38810433148,\n",
       "  218239.7913835968,\n",
       "  213741.38704396202,\n",
       "  210035.787793228,\n",
       "  207712.7989284338,\n",
       "  205331.06070355137,\n",
       "  201819.9557036946,\n",
       "  200927.65181911574,\n",
       "  200137.55658751528])"
      ]
     },
     "execution_count": 1043,
     "metadata": {},
     "output_type": "execute_result"
    },
    {
     "data": {
      "image/png": "[encoded data removed]",
      "text/plain": [
       "<Figure size 432x288 with 1 Axes>"
      ]
     },
     "metadata": {},
     "output_type": "display_data"
    }
   ],
   "source": [
    "plot_learning_curves(X_train_out,y_train_out,X_test_out,y_test_out, rf_grid.best_estimator_,scoring='mean_absolute_error')"
   ]
  },
  {
   "cell_type": "code",
   "execution_count": 968,
   "metadata": {},
   "outputs": [],
   "source": [
    "df1=pd.DataFrame()"
   ]
  },
  {
   "cell_type": "markdown",
   "metadata": {},
   "source": [
    "<h2> Adding ZipCode to Data frame by implementing Target Encoding"
   ]
  },
  {
   "cell_type": "code",
   "execution_count": 972,
   "metadata": {},
   "outputs": [],
   "source": [
    "#df_train.groupby('zipcode')['propertyevaluationvalue'].mean().to_dict()\n",
    "df1['zipcode']=df_train['zipcode'].map(df_train.groupby('zipcode')['propertyevaluationvalue'].mean())"
   ]
  },
  {
   "cell_type": "code",
   "execution_count": null,
   "metadata": {},
   "outputs": [],
   "source": [
    "df_test['zip']"
   ]
  },
  {
   "cell_type": "code",
   "execution_count": 974,
   "metadata": {},
   "outputs": [],
   "source": [
    "df1['zipcode_test']=df_train['zipcode'].map(df_train.groupby('zipcode')['propertyevaluationvalue'].mean())"
   ]
  },
  {
   "cell_type": "code",
   "execution_count": 975,
   "metadata": {},
   "outputs": [
    {
     "data": {
      "text/html": [
       "<div>\n",
       "<style scoped>\n",
       "    .dataframe tbody tr th:only-of-type {\n",
       "        vertical-align: middle;\n",
       "    }\n",
       "\n",
       "    .dataframe tbody tr th {\n",
       "        vertical-align: top;\n",
       "    }\n",
       "\n",
       "    .dataframe thead th {\n",
       "        text-align: right;\n",
       "    }\n",
       "</style>\n",
       "<table border=\"1\" class=\"dataframe\">\n",
       "  <thead>\n",
       "    <tr style=\"text-align: right;\">\n",
       "      <th></th>\n",
       "      <th>zipcode</th>\n",
       "      <th>zipcode_test</th>\n",
       "    </tr>\n",
       "  </thead>\n",
       "  <tbody>\n",
       "    <tr>\n",
       "      <td>0</td>\n",
       "      <td>6.474823e+05</td>\n",
       "      <td>6.474823e+05</td>\n",
       "    </tr>\n",
       "    <tr>\n",
       "      <td>1</td>\n",
       "      <td>8.920597e+05</td>\n",
       "      <td>8.920597e+05</td>\n",
       "    </tr>\n",
       "    <tr>\n",
       "      <td>2</td>\n",
       "      <td>8.920597e+05</td>\n",
       "      <td>8.920597e+05</td>\n",
       "    </tr>\n",
       "    <tr>\n",
       "      <td>3</td>\n",
       "      <td>8.920597e+05</td>\n",
       "      <td>8.920597e+05</td>\n",
       "    </tr>\n",
       "    <tr>\n",
       "      <td>4</td>\n",
       "      <td>8.920597e+05</td>\n",
       "      <td>8.920597e+05</td>\n",
       "    </tr>\n",
       "    <tr>\n",
       "      <td>...</td>\n",
       "      <td>...</td>\n",
       "      <td>...</td>\n",
       "    </tr>\n",
       "    <tr>\n",
       "      <td>16805</td>\n",
       "      <td>5.217283e+06</td>\n",
       "      <td>5.217283e+06</td>\n",
       "    </tr>\n",
       "    <tr>\n",
       "      <td>16806</td>\n",
       "      <td>5.033200e+06</td>\n",
       "      <td>5.033200e+06</td>\n",
       "    </tr>\n",
       "    <tr>\n",
       "      <td>16807</td>\n",
       "      <td>5.033200e+06</td>\n",
       "      <td>5.033200e+06</td>\n",
       "    </tr>\n",
       "    <tr>\n",
       "      <td>16808</td>\n",
       "      <td>6.620833e+05</td>\n",
       "      <td>6.620833e+05</td>\n",
       "    </tr>\n",
       "    <tr>\n",
       "      <td>16809</td>\n",
       "      <td>5.000000e+06</td>\n",
       "      <td>5.000000e+06</td>\n",
       "    </tr>\n",
       "  </tbody>\n",
       "</table>\n",
       "<p>16810 rows × 2 columns</p>\n",
       "</div>"
      ],
      "text/plain": [
       "            zipcode  zipcode_test\n",
       "0      6.474823e+05  6.474823e+05\n",
       "1      8.920597e+05  8.920597e+05\n",
       "2      8.920597e+05  8.920597e+05\n",
       "3      8.920597e+05  8.920597e+05\n",
       "4      8.920597e+05  8.920597e+05\n",
       "...             ...           ...\n",
       "16805  5.217283e+06  5.217283e+06\n",
       "16806  5.033200e+06  5.033200e+06\n",
       "16807  5.033200e+06  5.033200e+06\n",
       "16808  6.620833e+05  6.620833e+05\n",
       "16809  5.000000e+06  5.000000e+06\n",
       "\n",
       "[16810 rows x 2 columns]"
      ]
     },
     "execution_count": 975,
     "metadata": {},
     "output_type": "execute_result"
    }
   ],
   "source": [
    "df1"
   ]
  },
  {
   "cell_type": "code",
   "execution_count": 978,
   "metadata": {},
   "outputs": [],
   "source": [
    "X_train_aligned=pd.concat([X_train_aligned,df1['zipcode']],axis=1)"
   ]
  },
  {
   "cell_type": "code",
   "execution_count": 979,
   "metadata": {},
   "outputs": [
    {
     "data": {
      "text/plain": [
       "(16810, 38)"
      ]
     },
     "execution_count": 979,
     "metadata": {},
     "output_type": "execute_result"
    }
   ],
   "source": [
    "X_train_aligned.shape"
   ]
  },
  {
   "cell_type": "code",
   "execution_count": 995,
   "metadata": {},
   "outputs": [],
   "source": [
    "X_train1, X_test1, y_train1, y_test1 = train_test_split(X_train_aligned, y, test_size=0.3, random_state=123)"
   ]
  },
  {
   "cell_type": "code",
   "execution_count": 996,
   "metadata": {},
   "outputs": [
    {
     "data": {
      "text/plain": [
       "RandomForestRegressor(bootstrap=True, criterion='mse', max_depth=None,\n",
       "                      max_features='auto', max_leaf_nodes=None,\n",
       "                      min_impurity_decrease=0.0, min_impurity_split=None,\n",
       "                      min_samples_leaf=1, min_samples_split=2,\n",
       "                      min_weight_fraction_leaf=0.0, n_estimators=10,\n",
       "                      n_jobs=None, oob_score=False, random_state=123, verbose=0,\n",
       "                      warm_start=False)"
      ]
     },
     "execution_count": 996,
     "metadata": {},
     "output_type": "execute_result"
    }
   ],
   "source": [
    "rf.fit(X_train1,y_train1)"
   ]
  },
  {
   "cell_type": "code",
   "execution_count": 997,
   "metadata": {},
   "outputs": [],
   "source": [
    "y_pred_rd_1=rf.predict(X_test1)"
   ]
  },
  {
   "cell_type": "code",
   "execution_count": 1082,
   "metadata": {},
   "outputs": [
    {
     "name": "stdout",
     "output_type": "stream",
     "text": [
      "Train Error rf after adding Zipcode: 13.674030102338087\n"
     ]
    }
   ],
   "source": [
    "print('Train Error rf after adding Zipcode:',mean_absolute_percentage_error(y_train1,rf.predict(X_train1)))"
   ]
  },
  {
   "cell_type": "code",
   "execution_count": 1081,
   "metadata": {},
   "outputs": [
    {
     "name": "stdout",
     "output_type": "stream",
     "text": [
      "Test Error rf after adding Zipcode: 34.928598701499055\n"
     ]
    }
   ],
   "source": [
    "print('Test Error rf after adding Zipcode:',mean_absolute_percentage_error(y_test1,y_pred_rd_1))"
   ]
  },
  {
   "cell_type": "markdown",
   "metadata": {},
   "source": [
    "<h3> Standadization"
   ]
  },
  {
   "cell_type": "code",
   "execution_count": 1000,
   "metadata": {},
   "outputs": [],
   "source": [
    "c=list(X_train1.columns)"
   ]
  },
  {
   "cell_type": "code",
   "execution_count": 1002,
   "metadata": {},
   "outputs": [
    {
     "name": "stdout",
     "output_type": "stream",
     "text": [
      "(11767, 38) (11767,)\n",
      "(5043, 38) (5043,)\n"
     ]
    }
   ],
   "source": [
    "print(X_train1.shape, y_train1.shape)\n",
    "print(X_test1.shape, y_test1.shape)"
   ]
  },
  {
   "cell_type": "code",
   "execution_count": 1003,
   "metadata": {},
   "outputs": [],
   "source": [
    "std=StandardScaler()\n",
    "std.fit(X_train1)\n",
    "X_train1_std=std.transform(X_train1)\n",
    "X_test1_std=std.transform(X_test1)"
   ]
  },
  {
   "cell_type": "code",
   "execution_count": 1004,
   "metadata": {},
   "outputs": [
    {
     "data": {
      "text/plain": [
       "(11767, 38)"
      ]
     },
     "execution_count": 1004,
     "metadata": {},
     "output_type": "execute_result"
    }
   ],
   "source": [
    "X_train1_std.shape"
   ]
  },
  {
   "cell_type": "code",
   "execution_count": 1005,
   "metadata": {},
   "outputs": [
    {
     "data": {
      "text/plain": [
       "(5043, 38)"
      ]
     },
     "execution_count": 1005,
     "metadata": {},
     "output_type": "execute_result"
    }
   ],
   "source": [
    "X_test1_std.shape"
   ]
  },
  {
   "cell_type": "code",
   "execution_count": 1006,
   "metadata": {},
   "outputs": [],
   "source": [
    "X_train1_std=pd.DataFrame(X_train1_std,columns=c)"
   ]
  },
  {
   "cell_type": "code",
   "execution_count": 1007,
   "metadata": {},
   "outputs": [],
   "source": [
    "X_test1_std=pd.DataFrame(X_test1_std,columns=c)"
   ]
  },
  {
   "cell_type": "markdown",
   "metadata": {},
   "source": [
    "<h3>KNN Regressor"
   ]
  },
  {
   "cell_type": "code",
   "execution_count": 1008,
   "metadata": {},
   "outputs": [],
   "source": [
    "\n",
    "KNN = KNeighborsRegressor(n_neighbors=5,metric='manhattan',leaf_size=40,p=3,weights='distance',algorithm = 'kd_tree')\n"
   ]
  },
  {
   "cell_type": "code",
   "execution_count": null,
   "metadata": {},
   "outputs": [],
   "source": []
  },
  {
   "cell_type": "code",
   "execution_count": 1009,
   "metadata": {},
   "outputs": [
    {
     "data": {
      "text/plain": [
       "KNeighborsRegressor(algorithm='kd_tree', leaf_size=40, metric='manhattan',\n",
       "                    metric_params=None, n_jobs=None, n_neighbors=5, p=3,\n",
       "                    weights='distance')"
      ]
     },
     "execution_count": 1009,
     "metadata": {},
     "output_type": "execute_result"
    }
   ],
   "source": [
    "KNN.fit(X_train1_std,y_train1)"
   ]
  },
  {
   "cell_type": "code",
   "execution_count": 1010,
   "metadata": {},
   "outputs": [],
   "source": [
    "y_pred_knn=KNN.predict(X_test1_std)"
   ]
  },
  {
   "cell_type": "code",
   "execution_count": 1079,
   "metadata": {},
   "outputs": [
    {
     "name": "stdout",
     "output_type": "stream",
     "text": [
      "Test Error for Knn: 36.545818864051824\n"
     ]
    }
   ],
   "source": [
    "print('Test Error for Knn:',mean_absolute_percentage_error(y_test1,y_pred_knn))"
   ]
  },
  {
   "cell_type": "code",
   "execution_count": 1080,
   "metadata": {},
   "outputs": [
    {
     "name": "stdout",
     "output_type": "stream",
     "text": [
      "Train error fro Knn:  0.9490372517640739\n"
     ]
    }
   ],
   "source": [
    "print('Train error fro Knn: ',mean_absolute_percentage_error(y_train1,KNN.predict(X_train1_std)))"
   ]
  },
  {
   "cell_type": "code",
   "execution_count": 1014,
   "metadata": {},
   "outputs": [],
   "source": [
    "grid_params = {\n",
    "    'n_neighbors':[7,9,11,13,15,17],\n",
    "    'weights' : ['uniform','distance'],\n",
    "    'metric' : ['euclidean','manhattan']\n",
    "}"
   ]
  },
  {
   "cell_type": "code",
   "execution_count": 1015,
   "metadata": {},
   "outputs": [],
   "source": [
    "knn_grid=GridSearchCV(KNN,grid_params,cv=5,n_jobs=-1)"
   ]
  },
  {
   "cell_type": "code",
   "execution_count": 1016,
   "metadata": {},
   "outputs": [
    {
     "data": {
      "text/plain": [
       "GridSearchCV(cv=5, error_score='raise-deprecating',\n",
       "             estimator=KNeighborsRegressor(algorithm='kd_tree', leaf_size=40,\n",
       "                                           metric='manhattan',\n",
       "                                           metric_params=None, n_jobs=None,\n",
       "                                           n_neighbors=5, p=3,\n",
       "                                           weights='distance'),\n",
       "             iid='warn', n_jobs=-1,\n",
       "             param_grid={'metric': ['euclidean', 'manhattan'],\n",
       "                         'n_neighbors': [7, 9, 11, 13, 15, 17],\n",
       "                         'weights': ['uniform', 'distance']},\n",
       "             pre_dispatch='2*n_jobs', refit=True, return_train_score=False,\n",
       "             scoring=None, verbose=0)"
      ]
     },
     "execution_count": 1016,
     "metadata": {},
     "output_type": "execute_result"
    }
   ],
   "source": [
    "knn_grid.fit(X_train1_std,y_train1)"
   ]
  },
  {
   "cell_type": "code",
   "execution_count": 1018,
   "metadata": {},
   "outputs": [],
   "source": [
    "y_pred_knn_grid=knn_grid.predict(X_test1_std)"
   ]
  },
  {
   "cell_type": "code",
   "execution_count": 1078,
   "metadata": {},
   "outputs": [
    {
     "name": "stdout",
     "output_type": "stream",
     "text": [
      "Test Error for Knn Grid : 36.92970633224194\n"
     ]
    }
   ],
   "source": [
    "print('Test Error for Knn Grid :',mean_absolute_percentage_error(y_test1,y_pred_knn_grid))"
   ]
  },
  {
   "cell_type": "code",
   "execution_count": 1077,
   "metadata": {},
   "outputs": [
    {
     "name": "stdout",
     "output_type": "stream",
     "text": [
      "Train error for Knn Grid:  0.9488523344186579\n"
     ]
    }
   ],
   "source": [
    "print('Train error for Knn Grid: ',mean_absolute_percentage_error(y_train1,knn_grid.predict(X_train1_std)))"
   ]
  },
  {
   "cell_type": "markdown",
   "metadata": {},
   "source": [
    "<h3> Lasso Model"
   ]
  },
  {
   "cell_type": "code",
   "execution_count": 1046,
   "metadata": {},
   "outputs": [],
   "source": [
    "Lasso=Lasso()"
   ]
  },
  {
   "cell_type": "code",
   "execution_count": 1047,
   "metadata": {},
   "outputs": [
    {
     "data": {
      "text/plain": [
       "Lasso(alpha=1.0, copy_X=True, fit_intercept=True, max_iter=1000,\n",
       "      normalize=False, positive=False, precompute=False, random_state=None,\n",
       "      selection='cyclic', tol=0.0001, warm_start=False)"
      ]
     },
     "execution_count": 1047,
     "metadata": {},
     "output_type": "execute_result"
    }
   ],
   "source": [
    "Lasso.fit(X_train1_std,y_train1)"
   ]
  },
  {
   "cell_type": "code",
   "execution_count": 1049,
   "metadata": {},
   "outputs": [],
   "source": [
    "y_pred_lasso=Lasso.predict(X_test1_std)"
   ]
  },
  {
   "cell_type": "code",
   "execution_count": 1076,
   "metadata": {},
   "outputs": [
    {
     "name": "stdout",
     "output_type": "stream",
     "text": [
      "Train Error for Lasso:  48.5947855401187\n"
     ]
    }
   ],
   "source": [
    "print('Train Error for Lasso: ',mean_absolute_percentage_error(y_train1,Lasso.predict(X_train1_std)))"
   ]
  },
  {
   "cell_type": "code",
   "execution_count": 1075,
   "metadata": {},
   "outputs": [
    {
     "name": "stdout",
     "output_type": "stream",
     "text": [
      "Train Error for Lasso:  51.29005654081217\n"
     ]
    }
   ],
   "source": [
    "print('Train Error for Lasso: ',mean_absolute_percentage_error(y_test1,y_pred_lasso))"
   ]
  },
  {
   "cell_type": "markdown",
   "metadata": {},
   "source": [
    "<h3> Decision Tree"
   ]
  },
  {
   "cell_type": "code",
   "execution_count": 1051,
   "metadata": {},
   "outputs": [],
   "source": [
    "dt=DecisionTreeRegressor()"
   ]
  },
  {
   "cell_type": "code",
   "execution_count": 1052,
   "metadata": {},
   "outputs": [
    {
     "data": {
      "text/plain": [
       "DecisionTreeRegressor(criterion='mse', max_depth=None, max_features=None,\n",
       "                      max_leaf_nodes=None, min_impurity_decrease=0.0,\n",
       "                      min_impurity_split=None, min_samples_leaf=1,\n",
       "                      min_samples_split=2, min_weight_fraction_leaf=0.0,\n",
       "                      presort=False, random_state=None, splitter='best')"
      ]
     },
     "execution_count": 1052,
     "metadata": {},
     "output_type": "execute_result"
    }
   ],
   "source": [
    "dt.fit(X_train,y_train)"
   ]
  },
  {
   "cell_type": "code",
   "execution_count": 1053,
   "metadata": {},
   "outputs": [],
   "source": [
    "y_pred_dt=dt.predict(X_test)"
   ]
  },
  {
   "cell_type": "code",
   "execution_count": 1072,
   "metadata": {},
   "outputs": [
    {
     "name": "stdout",
     "output_type": "stream",
     "text": [
      "Train error for Decision Trees: 0.991293056175004\n"
     ]
    }
   ],
   "source": [
    "print('Train error for Decision Trees:',mean_absolute_percentage_error(y_train,dt.predict(X_train)))"
   ]
  },
  {
   "cell_type": "code",
   "execution_count": 1071,
   "metadata": {},
   "outputs": [
    {
     "name": "stdout",
     "output_type": "stream",
     "text": [
      "Test error for Decision Trees: 43.97648344010584\n"
     ]
    }
   ],
   "source": [
    "print('Test error for Decision Trees:',mean_absolute_percentage_error(y_test,y_pred_dt))"
   ]
  },
  {
   "cell_type": "markdown",
   "metadata": {},
   "source": [
    "<h3> Stacking"
   ]
  },
  {
   "cell_type": "code",
   "execution_count": 1056,
   "metadata": {},
   "outputs": [],
   "source": [
    "stack = np.array([y_pred_dt,y_pred_lasso,y_pred_knn_grid]).T"
   ]
  },
  {
   "cell_type": "code",
   "execution_count": 1057,
   "metadata": {},
   "outputs": [],
   "source": [
    "y_test_pred_stacked = np.mean(stack,axis=1)"
   ]
  },
  {
   "cell_type": "code",
   "execution_count": 1074,
   "metadata": {},
   "outputs": [
    {
     "name": "stdout",
     "output_type": "stream",
     "text": [
      "Stacking Test error: 39.462051788079876\n"
     ]
    }
   ],
   "source": [
    "print('Stacking Test error:',mean_absolute_percentage_error(y_test,y_test_pred_stacked))"
   ]
  },
  {
   "cell_type": "markdown",
   "metadata": {},
   "source": [
    "<H2>Linear Regression"
   ]
  },
  {
   "cell_type": "code",
   "execution_count": 1113,
   "metadata": {},
   "outputs": [],
   "source": [
    "from sklearn.linear_model import LinearRegression"
   ]
  },
  {
   "cell_type": "code",
   "execution_count": 1114,
   "metadata": {},
   "outputs": [],
   "source": [
    "lr=LinearRegression()"
   ]
  },
  {
   "cell_type": "code",
   "execution_count": 1115,
   "metadata": {},
   "outputs": [
    {
     "data": {
      "text/plain": [
       "LinearRegression(copy_X=True, fit_intercept=True, n_jobs=None, normalize=False)"
      ]
     },
     "execution_count": 1115,
     "metadata": {},
     "output_type": "execute_result"
    }
   ],
   "source": [
    "lr.fit(X_train1_std,y_train1)"
   ]
  },
  {
   "cell_type": "code",
   "execution_count": 1116,
   "metadata": {},
   "outputs": [],
   "source": [
    "y_pred_lr=lr.predict(X_test1_std)"
   ]
  },
  {
   "cell_type": "code",
   "execution_count": 1117,
   "metadata": {},
   "outputs": [
    {
     "name": "stdout",
     "output_type": "stream",
     "text": [
      "Train error for Linear Regression : 51.27571123893661\n"
     ]
    }
   ],
   "source": [
    "print('Train error for Linear Regression :',mean_absolute_percentage_error(y_test1,y_pred_lr))"
   ]
  },
  {
   "cell_type": "code",
   "execution_count": null,
   "metadata": {},
   "outputs": [],
   "source": []
  },
  {
   "cell_type": "code",
   "execution_count": null,
   "metadata": {},
   "outputs": [],
   "source": []
  },
  {
   "cell_type": "code",
   "execution_count": null,
   "metadata": {},
   "outputs": [],
   "source": []
  },
  {
   "cell_type": "code",
   "execution_count": null,
   "metadata": {},
   "outputs": [],
   "source": []
  }
 ],
 "metadata": {
  "kernelspec": {
   "display_name": "Python 3",
   "language": "python",
   "name": "python3"
  },
  "language_info": {
   "codemirror_mode": {
    "name": "ipython",
    "version": 3
   },
   "file_extension": ".py",
   "mimetype": "text/x-python",
   "name": "python",
   "nbconvert_exporter": "python",
   "pygments_lexer": "ipython3",
   "version": "3.7.1"
  }
 },
 "nbformat": 4,
 "nbformat_minor": 2
}
